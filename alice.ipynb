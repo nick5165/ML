{
 "metadata": {
  "kernelspec": {
   "language": "python",
   "display_name": "Python 3",
   "name": "python3"
  },
  "language_info": {
   "name": "python",
   "version": "3.11.11",
   "mimetype": "text/x-python",
   "codemirror_mode": {
    "name": "ipython",
    "version": 3
   },
   "pygments_lexer": "ipython3",
   "nbconvert_exporter": "python",
   "file_extension": ".py"
  },
  "kaggle": {
   "accelerator": "gpu",
   "dataSources": [
    {
     "sourceId": 7173,
     "databundleVersionId": 108687,
     "sourceType": "competition"
    }
   ],
   "dockerImageVersionId": 31012,
   "isInternetEnabled": true,
   "language": "python",
   "sourceType": "notebook",
   "isGpuEnabled": true
  }
 },
 "nbformat_minor": 4,
 "nbformat": 4,
 "cells": [
  {
   "cell_type": "markdown",
   "source": [
    "# Imports"
   ],
   "metadata": {}
  },
  {
   "cell_type": "code",
   "source": [
    "pip install -U scikit-learn imbalanced-learn"
   ],
   "metadata": {
    "trusted": true,
    "execution": {
     "iopub.status.busy": "2025-05-11T05:19:35.054030Z",
     "iopub.execute_input": "2025-05-11T05:19:35.054397Z",
     "iopub.status.idle": "2025-05-11T05:19:42.380235Z",
     "shell.execute_reply.started": "2025-05-11T05:19:35.054375Z",
     "shell.execute_reply": "2025-05-11T05:19:42.379545Z"
    }
   },
   "outputs": [
    {
     "name": "stdout",
     "text": "Requirement already satisfied: scikit-learn in /usr/local/lib/python3.11/dist-packages (1.2.2)\nCollecting scikit-learn\n  Downloading scikit_learn-1.6.1-cp311-cp311-manylinux_2_17_x86_64.manylinux2014_x86_64.whl.metadata (18 kB)\nRequirement already satisfied: imbalanced-learn in /usr/local/lib/python3.11/dist-packages (0.13.0)\nRequirement already satisfied: numpy>=1.19.5 in /usr/local/lib/python3.11/dist-packages (from scikit-learn) (1.26.4)\nRequirement already satisfied: scipy>=1.6.0 in /usr/local/lib/python3.11/dist-packages (from scikit-learn) (1.15.2)\nRequirement already satisfied: joblib>=1.2.0 in /usr/local/lib/python3.11/dist-packages (from scikit-learn) (1.4.2)\nRequirement already satisfied: threadpoolctl>=3.1.0 in /usr/local/lib/python3.11/dist-packages (from scikit-learn) (3.6.0)\nRequirement already satisfied: sklearn-compat<1,>=0.1 in /usr/local/lib/python3.11/dist-packages (from imbalanced-learn) (0.1.3)\nRequirement already satisfied: mkl_fft in /usr/local/lib/python3.11/dist-packages (from numpy>=1.19.5->scikit-learn) (1.3.8)\nRequirement already satisfied: mkl_random in /usr/local/lib/python3.11/dist-packages (from numpy>=1.19.5->scikit-learn) (1.2.4)\nRequirement already satisfied: mkl_umath in /usr/local/lib/python3.11/dist-packages (from numpy>=1.19.5->scikit-learn) (0.1.1)\nRequirement already satisfied: mkl in /usr/local/lib/python3.11/dist-packages (from numpy>=1.19.5->scikit-learn) (2025.1.0)\nRequirement already satisfied: tbb4py in /usr/local/lib/python3.11/dist-packages (from numpy>=1.19.5->scikit-learn) (2022.1.0)\nRequirement already satisfied: mkl-service in /usr/local/lib/python3.11/dist-packages (from numpy>=1.19.5->scikit-learn) (2.4.1)\nRequirement already satisfied: intel-openmp<2026,>=2024 in /usr/local/lib/python3.11/dist-packages (from mkl->numpy>=1.19.5->scikit-learn) (2024.2.0)\nRequirement already satisfied: tbb==2022.* in /usr/local/lib/python3.11/dist-packages (from mkl->numpy>=1.19.5->scikit-learn) (2022.1.0)\nRequirement already satisfied: tcmlib==1.* in /usr/local/lib/python3.11/dist-packages (from tbb==2022.*->mkl->numpy>=1.19.5->scikit-learn) (1.2.0)\nRequirement already satisfied: intel-cmplr-lib-rt in /usr/local/lib/python3.11/dist-packages (from mkl_umath->numpy>=1.19.5->scikit-learn) (2024.2.0)\nRequirement already satisfied: intel-cmplr-lib-ur==2024.2.0 in /usr/local/lib/python3.11/dist-packages (from intel-openmp<2026,>=2024->mkl->numpy>=1.19.5->scikit-learn) (2024.2.0)\nDownloading scikit_learn-1.6.1-cp311-cp311-manylinux_2_17_x86_64.manylinux2014_x86_64.whl (13.5 MB)\n\u001B[2K   \u001B[90m━━━━━━━━━━━━━━━━━━━━━━━━━━━━━━━━━━━━━━━━\u001B[0m \u001B[32m13.5/13.5 MB\u001B[0m \u001B[31m105.6 MB/s\u001B[0m eta \u001B[36m0:00:00\u001B[0m00:01\u001B[0m:01\u001B[0m\n\u001B[?25hInstalling collected packages: scikit-learn\n  Attempting uninstall: scikit-learn\n    Found existing installation: scikit-learn 1.2.2\n    Uninstalling scikit-learn-1.2.2:\n      Successfully uninstalled scikit-learn-1.2.2\n\u001B[31mERROR: pip's dependency resolver does not currently take into account all the packages that are installed. This behaviour is the source of the following dependency conflicts.\ncategory-encoders 2.7.0 requires scikit-learn<1.6.0,>=1.0.0, but you have scikit-learn 1.6.1 which is incompatible.\nbigframes 1.36.0 requires rich<14,>=12.4.4, but you have rich 14.0.0 which is incompatible.\u001B[0m\u001B[31m\n\u001B[0mSuccessfully installed scikit-learn-1.6.1\nNote: you may need to restart the kernel to use updated packages.\n",
     "output_type": "stream"
    }
   ],
   "execution_count": 1
  },
  {
   "cell_type": "code",
   "source": [
    "import pandas as pd\n",
    "import numpy as np\n",
    "from sklearn.model_selection import train_test_split\n",
    "from sklearn.metrics import roc_auc_score, classification_report\n",
    "from torch import nn\n",
    "from torch.utils.data import DataLoader, TensorDataset\n",
    "from catboost import CatBoostClassifier\n",
    "import matplotlib.pyplot as plt\n",
    "import seaborn as sns\n",
    "import torch\n",
    "from sklearn.preprocessing import MinMaxScaler\n",
    "import torch.optim as optim\n",
    "from tqdm.notebook import tqdm\n",
    "from sklearn.ensemble import IsolationForest\n",
    "from imblearn.over_sampling import SMOTE\n",
    "from collections import Counter"
   ],
   "metadata": {
    "trusted": true,
    "execution": {
     "iopub.status.busy": "2025-05-11T05:19:42.381940Z",
     "iopub.execute_input": "2025-05-11T05:19:42.382237Z",
     "iopub.status.idle": "2025-05-11T05:19:48.367178Z",
     "shell.execute_reply.started": "2025-05-11T05:19:42.382216Z",
     "shell.execute_reply": "2025-05-11T05:19:48.366637Z"
    }
   },
   "outputs": [],
   "execution_count": 2
  },
  {
   "cell_type": "markdown",
   "source": [
    "# Read the data"
   ],
   "metadata": {}
  },
  {
   "cell_type": "code",
   "source": [
    "data_train = pd.read_csv('/kaggle/input/catch-me-if-you-can-intruder-detection-through-webpage-session-tracking2/train_sessions.csv')\n",
    "data_test = pd.read_csv('/kaggle/input/catch-me-if-you-can-intruder-detection-through-webpage-session-tracking2/test_sessions.csv')"
   ],
   "metadata": {
    "trusted": true,
    "execution": {
     "iopub.status.busy": "2025-05-11T05:19:48.367791Z",
     "iopub.execute_input": "2025-05-11T05:19:48.368087Z",
     "iopub.status.idle": "2025-05-11T05:19:51.264941Z",
     "shell.execute_reply.started": "2025-05-11T05:19:48.368070Z",
     "shell.execute_reply": "2025-05-11T05:19:51.264392Z"
    }
   },
   "outputs": [],
   "execution_count": 3
  },
  {
   "cell_type": "code",
   "source": [
    "data_train"
   ],
   "metadata": {
    "trusted": true,
    "execution": {
     "iopub.status.busy": "2025-05-11T05:19:51.265680Z",
     "iopub.execute_input": "2025-05-11T05:19:51.265892Z",
     "iopub.status.idle": "2025-05-11T05:19:51.467085Z",
     "shell.execute_reply.started": "2025-05-11T05:19:51.265876Z",
     "shell.execute_reply": "2025-05-11T05:19:51.466401Z"
    }
   },
   "outputs": [
    {
     "name": "stderr",
     "text": "/usr/local/lib/python3.11/dist-packages/pandas/io/formats/format.py:1458: RuntimeWarning: invalid value encountered in greater\n  has_large_values = (abs_vals > 1e6).any()\n/usr/local/lib/python3.11/dist-packages/pandas/io/formats/format.py:1459: RuntimeWarning: invalid value encountered in less\n  has_small_values = ((abs_vals < 10 ** (-self.digits)) & (abs_vals > 0)).any()\n/usr/local/lib/python3.11/dist-packages/pandas/io/formats/format.py:1459: RuntimeWarning: invalid value encountered in greater\n  has_small_values = ((abs_vals < 10 ** (-self.digits)) & (abs_vals > 0)).any()\n/usr/local/lib/python3.11/dist-packages/pandas/io/formats/format.py:1458: RuntimeWarning: invalid value encountered in greater\n  has_large_values = (abs_vals > 1e6).any()\n/usr/local/lib/python3.11/dist-packages/pandas/io/formats/format.py:1459: RuntimeWarning: invalid value encountered in less\n  has_small_values = ((abs_vals < 10 ** (-self.digits)) & (abs_vals > 0)).any()\n/usr/local/lib/python3.11/dist-packages/pandas/io/formats/format.py:1459: RuntimeWarning: invalid value encountered in greater\n  has_small_values = ((abs_vals < 10 ** (-self.digits)) & (abs_vals > 0)).any()\n",
     "output_type": "stream"
    },
    {
     "execution_count": 4,
     "output_type": "execute_result",
     "data": {
      "text/plain": "        session_id  site1                time1    site2                time2  \\\n0                1    718  2014-02-20 10:02:45      NaN                  NaN   \n1                2    890  2014-02-22 11:19:50    941.0  2014-02-22 11:19:50   \n2                3  14769  2013-12-16 16:40:17     39.0  2013-12-16 16:40:18   \n3                4    782  2014-03-28 10:52:12    782.0  2014-03-28 10:52:42   \n4                5     22  2014-02-28 10:53:05    177.0  2014-02-28 10:55:22   \n...            ...    ...                  ...      ...                  ...   \n253556      253557   3474  2013-11-25 10:26:54   3474.0  2013-11-25 10:26:58   \n253557      253558  12727  2013-03-12 16:01:15  12727.0  2013-03-12 16:01:16   \n253558      253559   2661  2013-09-12 14:05:03  15004.0  2013-09-12 14:05:10   \n253559      253560    812  2013-12-19 15:20:22    676.0  2013-12-19 15:20:22   \n253560      253561  34942  2014-04-25 09:56:52   1429.0  2014-04-25 09:56:53   \n\n          site3                time3    site4                time4   site5  \\\n0           NaN                  NaN      NaN                  NaN     NaN   \n1        3847.0  2014-02-22 11:19:51    941.0  2014-02-22 11:19:51   942.0   \n2       14768.0  2013-12-16 16:40:19  14769.0  2013-12-16 16:40:19    37.0   \n3         782.0  2014-03-28 10:53:12    782.0  2014-03-28 10:53:42   782.0   \n4         175.0  2014-02-28 10:55:22    178.0  2014-02-28 10:55:23   177.0   \n...         ...                  ...      ...                  ...     ...   \n253556    141.0  2013-11-25 10:27:03   2428.0  2013-11-25 10:27:04   106.0   \n253557   2215.0  2013-03-12 16:01:16     38.0  2013-03-12 16:01:17  2215.0   \n253558   5562.0  2013-09-12 14:05:10   5562.0  2013-09-12 14:06:29  5562.0   \n253559    814.0  2013-12-19 15:20:22     22.0  2013-12-19 15:20:22    39.0   \n253560  34942.0  2014-04-25 09:56:53     29.0  2014-04-25 09:56:54    30.0   \n\n        ...                time6    site7                time7    site8  \\\n0       ...                  NaN      NaN                  NaN      NaN   \n1       ...  2014-02-22 11:19:51   3847.0  2014-02-22 11:19:52   3846.0   \n2       ...  2013-12-16 16:40:19  14768.0  2013-12-16 16:40:20  14768.0   \n3       ...  2014-03-28 10:54:42    782.0  2014-03-28 10:55:12    782.0   \n4       ...  2014-02-28 10:55:59    175.0  2014-02-28 10:55:59    177.0   \n...     ...                  ...      ...                  ...      ...   \n253556  ...  2013-11-25 10:27:16   2428.0  2013-11-25 10:27:28   2428.0   \n253557  ...  2013-03-12 16:01:17  25444.0  2013-03-12 16:01:18   2215.0   \n253558  ...                  NaN      NaN                  NaN      NaN   \n253559  ...  2013-12-19 15:20:23    814.0  2013-12-19 15:20:23    570.0   \n253560  ...  2014-04-25 09:56:54   5779.0  2014-04-25 09:56:54     30.0   \n\n                      time8    site9                time9   site10  \\\n0                       NaN      NaN                  NaN      NaN   \n1       2014-02-22 11:19:52   1516.0  2014-02-22 11:20:15   1518.0   \n2       2013-12-16 16:40:21  14768.0  2013-12-16 16:40:22  14768.0   \n3       2014-03-28 10:55:42    782.0  2014-03-28 10:56:12    782.0   \n4       2014-02-28 10:55:59    177.0  2014-02-28 10:57:06    178.0   \n...                     ...      ...                  ...      ...   \n253556  2013-11-25 10:27:40   2428.0  2013-11-25 10:27:52    148.0   \n253557  2013-03-12 16:01:18     23.0  2013-03-12 16:01:18     21.0   \n253558                  NaN      NaN                  NaN      NaN   \n253559  2013-12-19 15:20:23     22.0  2013-12-19 15:20:24    570.0   \n253560  2014-04-25 09:56:55     35.0  2014-04-25 09:56:55     33.0   \n\n                     time10  target  \n0                       NaN       0  \n1       2014-02-22 11:20:16       0  \n2       2013-12-16 16:40:24       0  \n3       2014-03-28 10:56:42       0  \n4       2014-02-28 10:57:11       0  \n...                     ...     ...  \n253556  2013-11-25 10:27:53       0  \n253557  2013-03-12 16:01:18       0  \n253558                  NaN       0  \n253559  2013-12-19 15:20:24       0  \n253560  2014-04-25 09:56:55       0  \n\n[253561 rows x 22 columns]",
      "text/html": "<div>\n<style scoped>\n    .dataframe tbody tr th:only-of-type {\n        vertical-align: middle;\n    }\n\n    .dataframe tbody tr th {\n        vertical-align: top;\n    }\n\n    .dataframe thead th {\n        text-align: right;\n    }\n</style>\n<table border=\"1\" class=\"dataframe\">\n  <thead>\n    <tr style=\"text-align: right;\">\n      <th></th>\n      <th>session_id</th>\n      <th>site1</th>\n      <th>time1</th>\n      <th>site2</th>\n      <th>time2</th>\n      <th>site3</th>\n      <th>time3</th>\n      <th>site4</th>\n      <th>time4</th>\n      <th>site5</th>\n      <th>...</th>\n      <th>time6</th>\n      <th>site7</th>\n      <th>time7</th>\n      <th>site8</th>\n      <th>time8</th>\n      <th>site9</th>\n      <th>time9</th>\n      <th>site10</th>\n      <th>time10</th>\n      <th>target</th>\n    </tr>\n  </thead>\n  <tbody>\n    <tr>\n      <th>0</th>\n      <td>1</td>\n      <td>718</td>\n      <td>2014-02-20 10:02:45</td>\n      <td>NaN</td>\n      <td>NaN</td>\n      <td>NaN</td>\n      <td>NaN</td>\n      <td>NaN</td>\n      <td>NaN</td>\n      <td>NaN</td>\n      <td>...</td>\n      <td>NaN</td>\n      <td>NaN</td>\n      <td>NaN</td>\n      <td>NaN</td>\n      <td>NaN</td>\n      <td>NaN</td>\n      <td>NaN</td>\n      <td>NaN</td>\n      <td>NaN</td>\n      <td>0</td>\n    </tr>\n    <tr>\n      <th>1</th>\n      <td>2</td>\n      <td>890</td>\n      <td>2014-02-22 11:19:50</td>\n      <td>941.0</td>\n      <td>2014-02-22 11:19:50</td>\n      <td>3847.0</td>\n      <td>2014-02-22 11:19:51</td>\n      <td>941.0</td>\n      <td>2014-02-22 11:19:51</td>\n      <td>942.0</td>\n      <td>...</td>\n      <td>2014-02-22 11:19:51</td>\n      <td>3847.0</td>\n      <td>2014-02-22 11:19:52</td>\n      <td>3846.0</td>\n      <td>2014-02-22 11:19:52</td>\n      <td>1516.0</td>\n      <td>2014-02-22 11:20:15</td>\n      <td>1518.0</td>\n      <td>2014-02-22 11:20:16</td>\n      <td>0</td>\n    </tr>\n    <tr>\n      <th>2</th>\n      <td>3</td>\n      <td>14769</td>\n      <td>2013-12-16 16:40:17</td>\n      <td>39.0</td>\n      <td>2013-12-16 16:40:18</td>\n      <td>14768.0</td>\n      <td>2013-12-16 16:40:19</td>\n      <td>14769.0</td>\n      <td>2013-12-16 16:40:19</td>\n      <td>37.0</td>\n      <td>...</td>\n      <td>2013-12-16 16:40:19</td>\n      <td>14768.0</td>\n      <td>2013-12-16 16:40:20</td>\n      <td>14768.0</td>\n      <td>2013-12-16 16:40:21</td>\n      <td>14768.0</td>\n      <td>2013-12-16 16:40:22</td>\n      <td>14768.0</td>\n      <td>2013-12-16 16:40:24</td>\n      <td>0</td>\n    </tr>\n    <tr>\n      <th>3</th>\n      <td>4</td>\n      <td>782</td>\n      <td>2014-03-28 10:52:12</td>\n      <td>782.0</td>\n      <td>2014-03-28 10:52:42</td>\n      <td>782.0</td>\n      <td>2014-03-28 10:53:12</td>\n      <td>782.0</td>\n      <td>2014-03-28 10:53:42</td>\n      <td>782.0</td>\n      <td>...</td>\n      <td>2014-03-28 10:54:42</td>\n      <td>782.0</td>\n      <td>2014-03-28 10:55:12</td>\n      <td>782.0</td>\n      <td>2014-03-28 10:55:42</td>\n      <td>782.0</td>\n      <td>2014-03-28 10:56:12</td>\n      <td>782.0</td>\n      <td>2014-03-28 10:56:42</td>\n      <td>0</td>\n    </tr>\n    <tr>\n      <th>4</th>\n      <td>5</td>\n      <td>22</td>\n      <td>2014-02-28 10:53:05</td>\n      <td>177.0</td>\n      <td>2014-02-28 10:55:22</td>\n      <td>175.0</td>\n      <td>2014-02-28 10:55:22</td>\n      <td>178.0</td>\n      <td>2014-02-28 10:55:23</td>\n      <td>177.0</td>\n      <td>...</td>\n      <td>2014-02-28 10:55:59</td>\n      <td>175.0</td>\n      <td>2014-02-28 10:55:59</td>\n      <td>177.0</td>\n      <td>2014-02-28 10:55:59</td>\n      <td>177.0</td>\n      <td>2014-02-28 10:57:06</td>\n      <td>178.0</td>\n      <td>2014-02-28 10:57:11</td>\n      <td>0</td>\n    </tr>\n    <tr>\n      <th>...</th>\n      <td>...</td>\n      <td>...</td>\n      <td>...</td>\n      <td>...</td>\n      <td>...</td>\n      <td>...</td>\n      <td>...</td>\n      <td>...</td>\n      <td>...</td>\n      <td>...</td>\n      <td>...</td>\n      <td>...</td>\n      <td>...</td>\n      <td>...</td>\n      <td>...</td>\n      <td>...</td>\n      <td>...</td>\n      <td>...</td>\n      <td>...</td>\n      <td>...</td>\n      <td>...</td>\n    </tr>\n    <tr>\n      <th>253556</th>\n      <td>253557</td>\n      <td>3474</td>\n      <td>2013-11-25 10:26:54</td>\n      <td>3474.0</td>\n      <td>2013-11-25 10:26:58</td>\n      <td>141.0</td>\n      <td>2013-11-25 10:27:03</td>\n      <td>2428.0</td>\n      <td>2013-11-25 10:27:04</td>\n      <td>106.0</td>\n      <td>...</td>\n      <td>2013-11-25 10:27:16</td>\n      <td>2428.0</td>\n      <td>2013-11-25 10:27:28</td>\n      <td>2428.0</td>\n      <td>2013-11-25 10:27:40</td>\n      <td>2428.0</td>\n      <td>2013-11-25 10:27:52</td>\n      <td>148.0</td>\n      <td>2013-11-25 10:27:53</td>\n      <td>0</td>\n    </tr>\n    <tr>\n      <th>253557</th>\n      <td>253558</td>\n      <td>12727</td>\n      <td>2013-03-12 16:01:15</td>\n      <td>12727.0</td>\n      <td>2013-03-12 16:01:16</td>\n      <td>2215.0</td>\n      <td>2013-03-12 16:01:16</td>\n      <td>38.0</td>\n      <td>2013-03-12 16:01:17</td>\n      <td>2215.0</td>\n      <td>...</td>\n      <td>2013-03-12 16:01:17</td>\n      <td>25444.0</td>\n      <td>2013-03-12 16:01:18</td>\n      <td>2215.0</td>\n      <td>2013-03-12 16:01:18</td>\n      <td>23.0</td>\n      <td>2013-03-12 16:01:18</td>\n      <td>21.0</td>\n      <td>2013-03-12 16:01:18</td>\n      <td>0</td>\n    </tr>\n    <tr>\n      <th>253558</th>\n      <td>253559</td>\n      <td>2661</td>\n      <td>2013-09-12 14:05:03</td>\n      <td>15004.0</td>\n      <td>2013-09-12 14:05:10</td>\n      <td>5562.0</td>\n      <td>2013-09-12 14:05:10</td>\n      <td>5562.0</td>\n      <td>2013-09-12 14:06:29</td>\n      <td>5562.0</td>\n      <td>...</td>\n      <td>NaN</td>\n      <td>NaN</td>\n      <td>NaN</td>\n      <td>NaN</td>\n      <td>NaN</td>\n      <td>NaN</td>\n      <td>NaN</td>\n      <td>NaN</td>\n      <td>NaN</td>\n      <td>0</td>\n    </tr>\n    <tr>\n      <th>253559</th>\n      <td>253560</td>\n      <td>812</td>\n      <td>2013-12-19 15:20:22</td>\n      <td>676.0</td>\n      <td>2013-12-19 15:20:22</td>\n      <td>814.0</td>\n      <td>2013-12-19 15:20:22</td>\n      <td>22.0</td>\n      <td>2013-12-19 15:20:22</td>\n      <td>39.0</td>\n      <td>...</td>\n      <td>2013-12-19 15:20:23</td>\n      <td>814.0</td>\n      <td>2013-12-19 15:20:23</td>\n      <td>570.0</td>\n      <td>2013-12-19 15:20:23</td>\n      <td>22.0</td>\n      <td>2013-12-19 15:20:24</td>\n      <td>570.0</td>\n      <td>2013-12-19 15:20:24</td>\n      <td>0</td>\n    </tr>\n    <tr>\n      <th>253560</th>\n      <td>253561</td>\n      <td>34942</td>\n      <td>2014-04-25 09:56:52</td>\n      <td>1429.0</td>\n      <td>2014-04-25 09:56:53</td>\n      <td>34942.0</td>\n      <td>2014-04-25 09:56:53</td>\n      <td>29.0</td>\n      <td>2014-04-25 09:56:54</td>\n      <td>30.0</td>\n      <td>...</td>\n      <td>2014-04-25 09:56:54</td>\n      <td>5779.0</td>\n      <td>2014-04-25 09:56:54</td>\n      <td>30.0</td>\n      <td>2014-04-25 09:56:55</td>\n      <td>35.0</td>\n      <td>2014-04-25 09:56:55</td>\n      <td>33.0</td>\n      <td>2014-04-25 09:56:55</td>\n      <td>0</td>\n    </tr>\n  </tbody>\n</table>\n<p>253561 rows × 22 columns</p>\n</div>"
     },
     "metadata": {}
    }
   ],
   "execution_count": 4
  },
  {
   "cell_type": "code",
   "source": [
    "data_test"
   ],
   "metadata": {
    "trusted": true,
    "execution": {
     "iopub.status.busy": "2025-05-11T05:19:51.469229Z",
     "iopub.execute_input": "2025-05-11T05:19:51.469504Z",
     "iopub.status.idle": "2025-05-11T05:19:51.540899Z",
     "shell.execute_reply.started": "2025-05-11T05:19:51.469485Z",
     "shell.execute_reply": "2025-05-11T05:19:51.540156Z"
    }
   },
   "outputs": [
    {
     "name": "stderr",
     "text": "/usr/local/lib/python3.11/dist-packages/pandas/io/formats/format.py:1458: RuntimeWarning: invalid value encountered in greater\n  has_large_values = (abs_vals > 1e6).any()\n/usr/local/lib/python3.11/dist-packages/pandas/io/formats/format.py:1459: RuntimeWarning: invalid value encountered in less\n  has_small_values = ((abs_vals < 10 ** (-self.digits)) & (abs_vals > 0)).any()\n/usr/local/lib/python3.11/dist-packages/pandas/io/formats/format.py:1459: RuntimeWarning: invalid value encountered in greater\n  has_small_values = ((abs_vals < 10 ** (-self.digits)) & (abs_vals > 0)).any()\n/usr/local/lib/python3.11/dist-packages/pandas/io/formats/format.py:1458: RuntimeWarning: invalid value encountered in greater\n  has_large_values = (abs_vals > 1e6).any()\n/usr/local/lib/python3.11/dist-packages/pandas/io/formats/format.py:1459: RuntimeWarning: invalid value encountered in less\n  has_small_values = ((abs_vals < 10 ** (-self.digits)) & (abs_vals > 0)).any()\n/usr/local/lib/python3.11/dist-packages/pandas/io/formats/format.py:1459: RuntimeWarning: invalid value encountered in greater\n  has_small_values = ((abs_vals < 10 ** (-self.digits)) & (abs_vals > 0)).any()\n",
     "output_type": "stream"
    },
    {
     "execution_count": 5,
     "output_type": "execute_result",
     "data": {
      "text/plain": "       session_id  site1                time1   site2                time2  \\\n0               1     29  2014-10-04 11:19:53    35.0  2014-10-04 11:19:53   \n1               2    782  2014-07-03 11:00:28   782.0  2014-07-03 11:00:53   \n2               3     55  2014-12-05 15:55:12    55.0  2014-12-05 15:55:13   \n3               4   1023  2014-11-04 10:03:19  1022.0  2014-11-04 10:03:19   \n4               5    301  2014-05-16 15:05:31   301.0  2014-05-16 15:05:32   \n...           ...    ...                  ...     ...                  ...   \n82792       82793    812  2014-10-02 18:20:09  1039.0  2014-10-02 18:20:09   \n82793       82794    300  2014-05-26 14:16:40   302.0  2014-05-26 14:16:41   \n82794       82795     29  2014-05-02 11:21:56    33.0  2014-05-02 11:21:56   \n82795       82796   5828  2014-05-03 10:05:25    23.0  2014-05-03 10:05:27   \n82796       82797     21  2014-11-02 10:46:57  1098.0  2014-11-02 10:46:57   \n\n        site3                time3   site4                time4   site5  ...  \\\n0        22.0  2014-10-04 11:19:54   321.0  2014-10-04 11:19:54    23.0  ...   \n1       782.0  2014-07-03 11:00:58   782.0  2014-07-03 11:01:06   782.0  ...   \n2        55.0  2014-12-05 15:55:14    55.0  2014-12-05 15:56:15    55.0  ...   \n3        50.0  2014-11-04 10:03:20   222.0  2014-11-04 10:03:21   202.0  ...   \n4       301.0  2014-05-16 15:05:33    66.0  2014-05-16 15:05:39    67.0  ...   \n...       ...                  ...     ...                  ...     ...  ...   \n82792   676.0  2014-10-02 18:20:09     NaN                  NaN     NaN  ...   \n82793   302.0  2014-05-26 14:16:44   300.0  2014-05-26 14:16:44   300.0  ...   \n82794    35.0  2014-05-02 11:21:56    22.0  2014-05-02 11:22:03    37.0  ...   \n82795    21.0  2014-05-03 10:05:27   804.0  2014-05-03 10:05:27    21.0  ...   \n82796  1098.0  2014-11-02 10:46:58  1098.0  2014-11-02 10:47:12  1098.0  ...   \n\n        site6                time6   site7                time7   site8  \\\n0      2211.0  2014-10-04 11:19:54  6730.0  2014-10-04 11:19:54    21.0   \n1       782.0  2014-07-03 11:01:10   782.0  2014-07-03 11:01:23   782.0   \n2        55.0  2014-12-05 15:56:17    55.0  2014-12-05 15:56:18    55.0   \n3      3374.0  2014-11-04 10:03:22    50.0  2014-11-04 10:03:22    48.0   \n4        69.0  2014-05-16 15:05:40    70.0  2014-05-16 15:05:40    68.0   \n...       ...                  ...     ...                  ...     ...   \n82792     NaN                  NaN     NaN                  NaN     NaN   \n82793  1222.0  2014-05-26 14:17:19   302.0  2014-05-26 14:17:19  1218.0   \n82794  6779.0  2014-05-02 11:22:03    30.0  2014-05-02 11:22:03    21.0   \n82795  3350.0  2014-05-03 10:05:37    23.0  2014-05-03 10:05:37   894.0   \n82796  1098.0  2014-11-02 10:47:14  1098.0  2014-11-02 10:47:15  1098.0   \n\n                     time8    site9                time9   site10  \\\n0      2014-10-04 11:19:54  44582.0  2014-10-04 11:20:00  15336.0   \n1      2014-07-03 11:01:29    782.0  2014-07-03 11:01:30    782.0   \n2      2014-12-05 15:56:19   1445.0  2014-12-05 15:56:33   1445.0   \n3      2014-11-04 10:03:22     48.0  2014-11-04 10:03:23   3374.0   \n4      2014-05-16 15:05:40     71.0  2014-05-16 15:05:40    167.0   \n...                    ...      ...                  ...      ...   \n82792                  NaN      NaN                  NaN      NaN   \n82793  2014-05-26 14:17:19   1221.0  2014-05-26 14:17:19   1216.0   \n82794  2014-05-02 11:22:04     23.0  2014-05-02 11:22:04   6780.0   \n82795  2014-05-03 10:05:38     21.0  2014-05-03 10:05:38    961.0   \n82796  2014-11-02 10:47:18   1098.0  2014-11-02 10:47:42   1098.0   \n\n                    time10  \n0      2014-10-04 11:20:00  \n1      2014-07-03 11:01:53  \n2      2014-12-05 15:56:36  \n3      2014-11-04 10:03:23  \n4      2014-05-16 15:05:44  \n...                    ...  \n82792                  NaN  \n82793  2014-05-26 14:17:19  \n82794  2014-05-02 11:22:04  \n82795  2014-05-03 10:05:38  \n82796  2014-11-02 10:47:47  \n\n[82797 rows x 21 columns]",
      "text/html": "<div>\n<style scoped>\n    .dataframe tbody tr th:only-of-type {\n        vertical-align: middle;\n    }\n\n    .dataframe tbody tr th {\n        vertical-align: top;\n    }\n\n    .dataframe thead th {\n        text-align: right;\n    }\n</style>\n<table border=\"1\" class=\"dataframe\">\n  <thead>\n    <tr style=\"text-align: right;\">\n      <th></th>\n      <th>session_id</th>\n      <th>site1</th>\n      <th>time1</th>\n      <th>site2</th>\n      <th>time2</th>\n      <th>site3</th>\n      <th>time3</th>\n      <th>site4</th>\n      <th>time4</th>\n      <th>site5</th>\n      <th>...</th>\n      <th>site6</th>\n      <th>time6</th>\n      <th>site7</th>\n      <th>time7</th>\n      <th>site8</th>\n      <th>time8</th>\n      <th>site9</th>\n      <th>time9</th>\n      <th>site10</th>\n      <th>time10</th>\n    </tr>\n  </thead>\n  <tbody>\n    <tr>\n      <th>0</th>\n      <td>1</td>\n      <td>29</td>\n      <td>2014-10-04 11:19:53</td>\n      <td>35.0</td>\n      <td>2014-10-04 11:19:53</td>\n      <td>22.0</td>\n      <td>2014-10-04 11:19:54</td>\n      <td>321.0</td>\n      <td>2014-10-04 11:19:54</td>\n      <td>23.0</td>\n      <td>...</td>\n      <td>2211.0</td>\n      <td>2014-10-04 11:19:54</td>\n      <td>6730.0</td>\n      <td>2014-10-04 11:19:54</td>\n      <td>21.0</td>\n      <td>2014-10-04 11:19:54</td>\n      <td>44582.0</td>\n      <td>2014-10-04 11:20:00</td>\n      <td>15336.0</td>\n      <td>2014-10-04 11:20:00</td>\n    </tr>\n    <tr>\n      <th>1</th>\n      <td>2</td>\n      <td>782</td>\n      <td>2014-07-03 11:00:28</td>\n      <td>782.0</td>\n      <td>2014-07-03 11:00:53</td>\n      <td>782.0</td>\n      <td>2014-07-03 11:00:58</td>\n      <td>782.0</td>\n      <td>2014-07-03 11:01:06</td>\n      <td>782.0</td>\n      <td>...</td>\n      <td>782.0</td>\n      <td>2014-07-03 11:01:10</td>\n      <td>782.0</td>\n      <td>2014-07-03 11:01:23</td>\n      <td>782.0</td>\n      <td>2014-07-03 11:01:29</td>\n      <td>782.0</td>\n      <td>2014-07-03 11:01:30</td>\n      <td>782.0</td>\n      <td>2014-07-03 11:01:53</td>\n    </tr>\n    <tr>\n      <th>2</th>\n      <td>3</td>\n      <td>55</td>\n      <td>2014-12-05 15:55:12</td>\n      <td>55.0</td>\n      <td>2014-12-05 15:55:13</td>\n      <td>55.0</td>\n      <td>2014-12-05 15:55:14</td>\n      <td>55.0</td>\n      <td>2014-12-05 15:56:15</td>\n      <td>55.0</td>\n      <td>...</td>\n      <td>55.0</td>\n      <td>2014-12-05 15:56:17</td>\n      <td>55.0</td>\n      <td>2014-12-05 15:56:18</td>\n      <td>55.0</td>\n      <td>2014-12-05 15:56:19</td>\n      <td>1445.0</td>\n      <td>2014-12-05 15:56:33</td>\n      <td>1445.0</td>\n      <td>2014-12-05 15:56:36</td>\n    </tr>\n    <tr>\n      <th>3</th>\n      <td>4</td>\n      <td>1023</td>\n      <td>2014-11-04 10:03:19</td>\n      <td>1022.0</td>\n      <td>2014-11-04 10:03:19</td>\n      <td>50.0</td>\n      <td>2014-11-04 10:03:20</td>\n      <td>222.0</td>\n      <td>2014-11-04 10:03:21</td>\n      <td>202.0</td>\n      <td>...</td>\n      <td>3374.0</td>\n      <td>2014-11-04 10:03:22</td>\n      <td>50.0</td>\n      <td>2014-11-04 10:03:22</td>\n      <td>48.0</td>\n      <td>2014-11-04 10:03:22</td>\n      <td>48.0</td>\n      <td>2014-11-04 10:03:23</td>\n      <td>3374.0</td>\n      <td>2014-11-04 10:03:23</td>\n    </tr>\n    <tr>\n      <th>4</th>\n      <td>5</td>\n      <td>301</td>\n      <td>2014-05-16 15:05:31</td>\n      <td>301.0</td>\n      <td>2014-05-16 15:05:32</td>\n      <td>301.0</td>\n      <td>2014-05-16 15:05:33</td>\n      <td>66.0</td>\n      <td>2014-05-16 15:05:39</td>\n      <td>67.0</td>\n      <td>...</td>\n      <td>69.0</td>\n      <td>2014-05-16 15:05:40</td>\n      <td>70.0</td>\n      <td>2014-05-16 15:05:40</td>\n      <td>68.0</td>\n      <td>2014-05-16 15:05:40</td>\n      <td>71.0</td>\n      <td>2014-05-16 15:05:40</td>\n      <td>167.0</td>\n      <td>2014-05-16 15:05:44</td>\n    </tr>\n    <tr>\n      <th>...</th>\n      <td>...</td>\n      <td>...</td>\n      <td>...</td>\n      <td>...</td>\n      <td>...</td>\n      <td>...</td>\n      <td>...</td>\n      <td>...</td>\n      <td>...</td>\n      <td>...</td>\n      <td>...</td>\n      <td>...</td>\n      <td>...</td>\n      <td>...</td>\n      <td>...</td>\n      <td>...</td>\n      <td>...</td>\n      <td>...</td>\n      <td>...</td>\n      <td>...</td>\n      <td>...</td>\n    </tr>\n    <tr>\n      <th>82792</th>\n      <td>82793</td>\n      <td>812</td>\n      <td>2014-10-02 18:20:09</td>\n      <td>1039.0</td>\n      <td>2014-10-02 18:20:09</td>\n      <td>676.0</td>\n      <td>2014-10-02 18:20:09</td>\n      <td>NaN</td>\n      <td>NaN</td>\n      <td>NaN</td>\n      <td>...</td>\n      <td>NaN</td>\n      <td>NaN</td>\n      <td>NaN</td>\n      <td>NaN</td>\n      <td>NaN</td>\n      <td>NaN</td>\n      <td>NaN</td>\n      <td>NaN</td>\n      <td>NaN</td>\n      <td>NaN</td>\n    </tr>\n    <tr>\n      <th>82793</th>\n      <td>82794</td>\n      <td>300</td>\n      <td>2014-05-26 14:16:40</td>\n      <td>302.0</td>\n      <td>2014-05-26 14:16:41</td>\n      <td>302.0</td>\n      <td>2014-05-26 14:16:44</td>\n      <td>300.0</td>\n      <td>2014-05-26 14:16:44</td>\n      <td>300.0</td>\n      <td>...</td>\n      <td>1222.0</td>\n      <td>2014-05-26 14:17:19</td>\n      <td>302.0</td>\n      <td>2014-05-26 14:17:19</td>\n      <td>1218.0</td>\n      <td>2014-05-26 14:17:19</td>\n      <td>1221.0</td>\n      <td>2014-05-26 14:17:19</td>\n      <td>1216.0</td>\n      <td>2014-05-26 14:17:19</td>\n    </tr>\n    <tr>\n      <th>82794</th>\n      <td>82795</td>\n      <td>29</td>\n      <td>2014-05-02 11:21:56</td>\n      <td>33.0</td>\n      <td>2014-05-02 11:21:56</td>\n      <td>35.0</td>\n      <td>2014-05-02 11:21:56</td>\n      <td>22.0</td>\n      <td>2014-05-02 11:22:03</td>\n      <td>37.0</td>\n      <td>...</td>\n      <td>6779.0</td>\n      <td>2014-05-02 11:22:03</td>\n      <td>30.0</td>\n      <td>2014-05-02 11:22:03</td>\n      <td>21.0</td>\n      <td>2014-05-02 11:22:04</td>\n      <td>23.0</td>\n      <td>2014-05-02 11:22:04</td>\n      <td>6780.0</td>\n      <td>2014-05-02 11:22:04</td>\n    </tr>\n    <tr>\n      <th>82795</th>\n      <td>82796</td>\n      <td>5828</td>\n      <td>2014-05-03 10:05:25</td>\n      <td>23.0</td>\n      <td>2014-05-03 10:05:27</td>\n      <td>21.0</td>\n      <td>2014-05-03 10:05:27</td>\n      <td>804.0</td>\n      <td>2014-05-03 10:05:27</td>\n      <td>21.0</td>\n      <td>...</td>\n      <td>3350.0</td>\n      <td>2014-05-03 10:05:37</td>\n      <td>23.0</td>\n      <td>2014-05-03 10:05:37</td>\n      <td>894.0</td>\n      <td>2014-05-03 10:05:38</td>\n      <td>21.0</td>\n      <td>2014-05-03 10:05:38</td>\n      <td>961.0</td>\n      <td>2014-05-03 10:05:38</td>\n    </tr>\n    <tr>\n      <th>82796</th>\n      <td>82797</td>\n      <td>21</td>\n      <td>2014-11-02 10:46:57</td>\n      <td>1098.0</td>\n      <td>2014-11-02 10:46:57</td>\n      <td>1098.0</td>\n      <td>2014-11-02 10:46:58</td>\n      <td>1098.0</td>\n      <td>2014-11-02 10:47:12</td>\n      <td>1098.0</td>\n      <td>...</td>\n      <td>1098.0</td>\n      <td>2014-11-02 10:47:14</td>\n      <td>1098.0</td>\n      <td>2014-11-02 10:47:15</td>\n      <td>1098.0</td>\n      <td>2014-11-02 10:47:18</td>\n      <td>1098.0</td>\n      <td>2014-11-02 10:47:42</td>\n      <td>1098.0</td>\n      <td>2014-11-02 10:47:47</td>\n    </tr>\n  </tbody>\n</table>\n<p>82797 rows × 21 columns</p>\n</div>"
     },
     "metadata": {}
    }
   ],
   "execution_count": 5
  },
  {
   "cell_type": "code",
   "source": [
    "data_train.info()"
   ],
   "metadata": {
    "trusted": true,
    "execution": {
     "iopub.status.busy": "2025-05-11T05:19:51.541694Z",
     "iopub.execute_input": "2025-05-11T05:19:51.541982Z",
     "iopub.status.idle": "2025-05-11T05:19:51.679252Z",
     "shell.execute_reply.started": "2025-05-11T05:19:51.541966Z",
     "shell.execute_reply": "2025-05-11T05:19:51.678609Z"
    }
   },
   "outputs": [
    {
     "name": "stdout",
     "text": "<class 'pandas.core.frame.DataFrame'>\nRangeIndex: 253561 entries, 0 to 253560\nData columns (total 22 columns):\n #   Column      Non-Null Count   Dtype  \n---  ------      --------------   -----  \n 0   session_id  253561 non-null  int64  \n 1   site1       253561 non-null  int64  \n 2   time1       253561 non-null  object \n 3   site2       250098 non-null  float64\n 4   time2       250098 non-null  object \n 5   site3       246919 non-null  float64\n 6   time3       246919 non-null  object \n 7   site4       244321 non-null  float64\n 8   time4       244321 non-null  object \n 9   site5       241829 non-null  float64\n 10  time5       241829 non-null  object \n 11  site6       239495 non-null  float64\n 12  time6       239495 non-null  object \n 13  site7       237297 non-null  float64\n 14  time7       237297 non-null  object \n 15  site8       235224 non-null  float64\n 16  time8       235224 non-null  object \n 17  site9       233084 non-null  float64\n 18  time9       233084 non-null  object \n 19  site10      231052 non-null  float64\n 20  time10      231052 non-null  object \n 21  target      253561 non-null  int64  \ndtypes: float64(9), int64(3), object(10)\nmemory usage: 42.6+ MB\n",
     "output_type": "stream"
    }
   ],
   "execution_count": 6
  },
  {
   "cell_type": "markdown",
   "source": [
    "В трейне пропуски"
   ],
   "metadata": {}
  },
  {
   "cell_type": "code",
   "source": [
    "data_test.info()"
   ],
   "metadata": {
    "trusted": true,
    "execution": {
     "iopub.status.busy": "2025-05-11T05:19:51.679933Z",
     "iopub.execute_input": "2025-05-11T05:19:51.680144Z",
     "iopub.status.idle": "2025-05-11T05:19:51.727590Z",
     "shell.execute_reply.started": "2025-05-11T05:19:51.680119Z",
     "shell.execute_reply": "2025-05-11T05:19:51.726853Z"
    }
   },
   "outputs": [
    {
     "name": "stdout",
     "text": "<class 'pandas.core.frame.DataFrame'>\nRangeIndex: 82797 entries, 0 to 82796\nData columns (total 21 columns):\n #   Column      Non-Null Count  Dtype  \n---  ------      --------------  -----  \n 0   session_id  82797 non-null  int64  \n 1   site1       82797 non-null  int64  \n 2   time1       82797 non-null  object \n 3   site2       81308 non-null  float64\n 4   time2       81308 non-null  object \n 5   site3       80075 non-null  float64\n 6   time3       80075 non-null  object \n 7   site4       79182 non-null  float64\n 8   time4       79182 non-null  object \n 9   site5       78341 non-null  float64\n 10  time5       78341 non-null  object \n 11  site6       77566 non-null  float64\n 12  time6       77566 non-null  object \n 13  site7       76840 non-null  float64\n 14  time7       76840 non-null  object \n 15  site8       76151 non-null  float64\n 16  time8       76151 non-null  object \n 17  site9       75484 non-null  float64\n 18  time9       75484 non-null  object \n 19  site10      74806 non-null  float64\n 20  time10      74806 non-null  object \ndtypes: float64(9), int64(2), object(10)\nmemory usage: 13.3+ MB\n",
     "output_type": "stream"
    }
   ],
   "execution_count": 7
  },
  {
   "cell_type": "markdown",
   "source": [
    "# Fill missing"
   ],
   "metadata": {}
  },
  {
   "cell_type": "code",
   "source": [
    "data_train.fillna(0, inplace=True)\n",
    "data_test.fillna(0, inplace=True)"
   ],
   "metadata": {
    "trusted": true,
    "execution": {
     "iopub.status.busy": "2025-05-11T05:19:51.728341Z",
     "iopub.execute_input": "2025-05-11T05:19:51.728659Z",
     "iopub.status.idle": "2025-05-11T05:19:52.101416Z",
     "shell.execute_reply.started": "2025-05-11T05:19:51.728625Z",
     "shell.execute_reply": "2025-05-11T05:19:52.100603Z"
    }
   },
   "outputs": [],
   "execution_count": 8
  },
  {
   "cell_type": "markdown",
   "source": [
    "Заполняем всё нулями"
   ],
   "metadata": {}
  },
  {
   "cell_type": "markdown",
   "source": [
    "# Feature engineering"
   ],
   "metadata": {}
  },
  {
   "cell_type": "code",
   "source": [
    "def add_time_diffs_at_seconds(df):\n",
    "    time_cols = sorted([col for col in df.columns if col.startswith('time')])\n",
    "    data_test[time_cols] = data_test[time_cols].apply(pd.to_datetime, errors='coerce')\n",
    "    data_train[time_cols] = data_train[time_cols].apply(pd.to_datetime, errors='coerce')\n",
    "\n",
    "    for i in range(len(time_cols)-1):\n",
    "        col1 = time_cols[i]\n",
    "        col2 = time_cols[i+1] \n",
    "        diff_col = f'diff{col1}_{col2}'\n",
    "\n",
    "        df[diff_col] = (df[col2]-df[col1]).dt.total_seconds()\n",
    "\n",
    "    return df"
   ],
   "metadata": {
    "trusted": true,
    "execution": {
     "iopub.status.busy": "2025-05-11T05:19:52.102304Z",
     "iopub.execute_input": "2025-05-11T05:19:52.102572Z",
     "iopub.status.idle": "2025-05-11T05:19:52.107673Z",
     "shell.execute_reply.started": "2025-05-11T05:19:52.102550Z",
     "shell.execute_reply": "2025-05-11T05:19:52.106979Z"
    }
   },
   "outputs": [],
   "execution_count": 9
  },
  {
   "cell_type": "markdown",
   "source": [
    "Находим разницу во времени входа на сайт в секундах"
   ],
   "metadata": {}
  },
  {
   "cell_type": "code",
   "source": [
    "data_test = add_time_diffs_at_seconds(data_test)\n",
    "data_train = add_time_diffs_at_seconds(data_train)"
   ],
   "metadata": {
    "trusted": true,
    "execution": {
     "iopub.status.busy": "2025-05-11T05:19:52.108398Z",
     "iopub.execute_input": "2025-05-11T05:19:52.108695Z",
     "iopub.status.idle": "2025-05-11T05:19:53.673858Z",
     "shell.execute_reply.started": "2025-05-11T05:19:52.108675Z",
     "shell.execute_reply": "2025-05-11T05:19:53.673329Z"
    }
   },
   "outputs": [],
   "execution_count": 10
  },
  {
   "cell_type": "code",
   "source": [
    "def time_features_for_alice(df):\n",
    "    time_cols = sorted([col for col in df.columns if col.startswith('time')])\n",
    "    data_test[time_cols] = data_test[time_cols].apply(pd.to_datetime, errors='coerce')\n",
    "    data_train[time_cols] = data_train[time_cols].apply(pd.to_datetime, errors='coerce')\n",
    "\n",
    "\n",
    "    for i in range(len(time_cols)):\n",
    "        \n",
    "        col = time_cols[i]\n",
    "        df[f'year_{col}'] = df[col].dt.year\n",
    "        df[f'month_{col}'] = df[col].dt.month\n",
    "        df[f'day_{col}'] = df[col].dt.day\n",
    "        df[f'hour_{col}'] = df[col].dt.hour\n",
    "        df[f'minute_{col}'] = df[col].dt.minute\n",
    "        df[f'second_{col}'] = df[col].dt.second\n",
    "        df[f'weekday_{col}'] = df[col].dt.dayofweek\n",
    "        df = df.drop(col, axis=1)\n",
    "\n",
    "    return df"
   ],
   "metadata": {
    "trusted": true,
    "execution": {
     "iopub.status.busy": "2025-05-11T05:19:53.674575Z",
     "iopub.execute_input": "2025-05-11T05:19:53.674830Z",
     "iopub.status.idle": "2025-05-11T05:19:53.680886Z",
     "shell.execute_reply.started": "2025-05-11T05:19:53.674808Z",
     "shell.execute_reply": "2025-05-11T05:19:53.680104Z"
    }
   },
   "outputs": [],
   "execution_count": 11
  },
  {
   "cell_type": "markdown",
   "source": [
    "Распарсим дату"
   ],
   "metadata": {}
  },
  {
   "cell_type": "code",
   "source": [
    "data_test = time_features_for_alice(data_train)\n",
    "data_train = time_features_for_alice(data_test)"
   ],
   "metadata": {
    "trusted": true,
    "execution": {
     "iopub.status.busy": "2025-05-11T05:19:53.681703Z",
     "iopub.execute_input": "2025-05-11T05:19:53.681912Z",
     "iopub.status.idle": "2025-05-11T05:19:55.094414Z",
     "shell.execute_reply.started": "2025-05-11T05:19:53.681888Z",
     "shell.execute_reply": "2025-05-11T05:19:55.093876Z"
    }
   },
   "outputs": [],
   "execution_count": 12
  },
  {
   "cell_type": "code",
   "source": [
    "def cap_large_values_in_time_cols(df, threshold=864000):\n",
    "\n",
    "    time_cols = [col for col in df.columns if col.startswith('diff_')]\n",
    "    \n",
    "    for col in time_cols:\n",
    "        mask = df[col].abs() > threshold\n",
    "        df.loc[mask, col] = threshold * df.loc[mask, col].apply(lambda x: 1 if x > 0 else -1)\n",
    "    \n",
    "    return df"
   ],
   "metadata": {
    "trusted": true,
    "execution": {
     "iopub.status.busy": "2025-05-11T05:19:55.095330Z",
     "iopub.execute_input": "2025-05-11T05:19:55.095531Z",
     "iopub.status.idle": "2025-05-11T05:19:55.099521Z",
     "shell.execute_reply.started": "2025-05-11T05:19:55.095516Z",
     "shell.execute_reply": "2025-05-11T05:19:55.098866Z"
    }
   },
   "outputs": [],
   "execution_count": 13
  },
  {
   "cell_type": "code",
   "source": [
    "data_test = cap_large_values_in_time_cols(data_train)\n",
    "data_train = cap_large_values_in_time_cols(data_test)"
   ],
   "metadata": {
    "trusted": true,
    "execution": {
     "iopub.status.busy": "2025-05-11T05:19:55.102301Z",
     "iopub.execute_input": "2025-05-11T05:19:55.102505Z",
     "iopub.status.idle": "2025-05-11T05:19:55.115869Z",
     "shell.execute_reply.started": "2025-05-11T05:19:55.102491Z",
     "shell.execute_reply": "2025-05-11T05:19:55.115073Z"
    }
   },
   "outputs": [],
   "execution_count": 14
  },
  {
   "cell_type": "code",
   "source": [
    "features = ['year_time1', 'month_time1', 'day_time1', 'weekday_time1', 'hour_time1',\n",
    "       'minute_time1', 'second_time1', 'year_time2', 'month_time2',\n",
    "       'day_time2', 'weekday_time2', 'hour_time2', 'minute_time2',\n",
    "       'second_time2', 'year_time3', 'month_time3', 'day_time3',\n",
    "       'weekday_time3', 'hour_time3', 'minute_time3', 'second_time3',\n",
    "       'year_time4', 'month_time4', 'day_time4', 'weekday_time4', 'hour_time4',\n",
    "       'minute_time4', 'second_time4', 'year_time5', 'month_time5',\n",
    "       'day_time5', 'weekday_time5', 'hour_time5', 'minute_time5',\n",
    "       'second_time5', 'year_time6', 'month_time6', 'day_time6',\n",
    "       'weekday_time6', 'hour_time6', 'minute_time6', 'second_time6',\n",
    "       'year_time7', 'month_time7', 'day_time7', 'weekday_time7', 'hour_time7',\n",
    "       'minute_time7', 'second_time7', 'year_time8', 'month_time8',\n",
    "       'day_time8', 'weekday_time8', 'hour_time8', 'minute_time8',\n",
    "       'second_time8', 'year_time9', 'month_time9', 'day_time9',\n",
    "       'weekday_time9', 'hour_time9', 'minute_time9', 'second_time9',\n",
    "       'year_time10', 'month_time10', 'day_time10', 'weekday_time10',\n",
    "       'hour_time10', 'minute_time10', 'second_time10']\n",
    "\n",
    "\n",
    "data_train = pd.get_dummies(data_train, columns=features, dtype=int)"
   ],
   "metadata": {
    "trusted": true,
    "execution": {
     "iopub.status.busy": "2025-05-11T05:19:55.116537Z",
     "iopub.execute_input": "2025-05-11T05:19:55.116774Z",
     "iopub.status.idle": "2025-05-11T05:19:59.775436Z",
     "shell.execute_reply.started": "2025-05-11T05:19:55.116755Z",
     "shell.execute_reply": "2025-05-11T05:19:59.774867Z"
    }
   },
   "outputs": [],
   "execution_count": 15
  },
  {
   "cell_type": "markdown",
   "source": [
    "# Data exploration"
   ],
   "metadata": {}
  },
  {
   "cell_type": "code",
   "source": [
    "data_anomaly = data_train.loc[(data_train['target']==1)]"
   ],
   "metadata": {
    "trusted": true,
    "execution": {
     "iopub.status.busy": "2025-05-11T05:19:59.776102Z",
     "iopub.execute_input": "2025-05-11T05:19:59.776321Z",
     "iopub.status.idle": "2025-05-11T05:19:59.828040Z",
     "shell.execute_reply.started": "2025-05-11T05:19:59.776305Z",
     "shell.execute_reply": "2025-05-11T05:19:59.827568Z"
    }
   },
   "outputs": [],
   "execution_count": 16
  },
  {
   "cell_type": "code",
   "source": [
    "data_not_anomaly = data_train.loc[(data_train['target']==0)]"
   ],
   "metadata": {
    "trusted": true,
    "execution": {
     "iopub.status.busy": "2025-05-11T05:19:59.828653Z",
     "iopub.execute_input": "2025-05-11T05:19:59.828862Z",
     "iopub.status.idle": "2025-05-11T05:20:01.212487Z",
     "shell.execute_reply.started": "2025-05-11T05:19:59.828848Z",
     "shell.execute_reply": "2025-05-11T05:20:01.211888Z"
    }
   },
   "outputs": [],
   "execution_count": 17
  },
  {
   "cell_type": "code",
   "source": [
    "data_not_anomaly = data_not_anomaly.drop('session_id', axis=1)"
   ],
   "metadata": {
    "trusted": true,
    "execution": {
     "iopub.status.busy": "2025-05-11T05:20:01.213157Z",
     "iopub.execute_input": "2025-05-11T05:20:01.213378Z",
     "iopub.status.idle": "2025-05-11T05:20:02.405643Z",
     "shell.execute_reply.started": "2025-05-11T05:20:01.213363Z",
     "shell.execute_reply": "2025-05-11T05:20:02.404969Z"
    }
   },
   "outputs": [],
   "execution_count": 18
  },
  {
   "cell_type": "code",
   "source": [
    "X = data_not_anomaly.drop('target', axis=1)\n",
    "y = data_not_anomaly['target']"
   ],
   "metadata": {
    "trusted": true,
    "execution": {
     "iopub.status.busy": "2025-05-11T05:20:02.406425Z",
     "iopub.execute_input": "2025-05-11T05:20:02.406627Z",
     "iopub.status.idle": "2025-05-11T05:20:03.482777Z",
     "shell.execute_reply.started": "2025-05-11T05:20:02.406612Z",
     "shell.execute_reply": "2025-05-11T05:20:03.482233Z"
    }
   },
   "outputs": [],
   "execution_count": 19
  },
  {
   "cell_type": "code",
   "source": [
    "scaler = MinMaxScaler()\n",
    "X = scaler.fit_transform(X)"
   ],
   "metadata": {
    "trusted": true,
    "execution": {
     "iopub.status.busy": "2025-05-11T05:20:03.483439Z",
     "iopub.execute_input": "2025-05-11T05:20:03.483612Z",
     "iopub.status.idle": "2025-05-11T05:20:09.252820Z",
     "shell.execute_reply.started": "2025-05-11T05:20:03.483598Z",
     "shell.execute_reply": "2025-05-11T05:20:09.251970Z"
    }
   },
   "outputs": [],
   "execution_count": 20
  },
  {
   "cell_type": "markdown",
   "source": [
    "# Dataset to tensors"
   ],
   "metadata": {}
  },
  {
   "cell_type": "code",
   "source": [
    "X = torch.tensor(X, dtype=torch.float32)\n",
    "y = torch.tensor(y, dtype=torch.float32)"
   ],
   "metadata": {
    "trusted": true,
    "execution": {
     "iopub.status.busy": "2025-05-11T05:20:09.253779Z",
     "iopub.execute_input": "2025-05-11T05:20:09.254398Z",
     "iopub.status.idle": "2025-05-11T05:20:10.143677Z",
     "shell.execute_reply.started": "2025-05-11T05:20:09.254371Z",
     "shell.execute_reply": "2025-05-11T05:20:10.143084Z"
    }
   },
   "outputs": [],
   "execution_count": 21
  },
  {
   "cell_type": "code",
   "source": [
    "train_dataset = TensorDataset(X,y)"
   ],
   "metadata": {
    "trusted": true,
    "execution": {
     "iopub.status.busy": "2025-05-11T05:20:10.144471Z",
     "iopub.execute_input": "2025-05-11T05:20:10.144748Z",
     "iopub.status.idle": "2025-05-11T05:20:10.150759Z",
     "shell.execute_reply.started": "2025-05-11T05:20:10.144724Z",
     "shell.execute_reply": "2025-05-11T05:20:10.150011Z"
    }
   },
   "outputs": [],
   "execution_count": 22
  },
  {
   "cell_type": "code",
   "source": [
    "train_loader = DataLoader(train_dataset, batch_size = 256, shuffle = True)"
   ],
   "metadata": {
    "trusted": true,
    "execution": {
     "iopub.status.busy": "2025-05-11T05:20:10.151603Z",
     "iopub.execute_input": "2025-05-11T05:20:10.151861Z",
     "iopub.status.idle": "2025-05-11T05:20:10.166689Z",
     "shell.execute_reply.started": "2025-05-11T05:20:10.151840Z",
     "shell.execute_reply": "2025-05-11T05:20:10.166077Z"
    }
   },
   "outputs": [],
   "execution_count": 23
  },
  {
   "cell_type": "code",
   "source": [
    "X.shape"
   ],
   "metadata": {
    "trusted": true,
    "execution": {
     "iopub.status.busy": "2025-05-11T05:20:10.167317Z",
     "iopub.execute_input": "2025-05-11T05:20:10.167542Z",
     "iopub.status.idle": "2025-05-11T05:20:10.181645Z",
     "shell.execute_reply.started": "2025-05-11T05:20:10.167522Z",
     "shell.execute_reply": "2025-05-11T05:20:10.181081Z"
    }
   },
   "outputs": [
    {
     "execution_count": 24,
     "output_type": "execute_result",
     "data": {
      "text/plain": "torch.Size([251264, 1867])"
     },
     "metadata": {}
    }
   ],
   "execution_count": 24
  },
  {
   "cell_type": "markdown",
   "source": [
    "# Encoder"
   ],
   "metadata": {}
  },
  {
   "cell_type": "code",
   "source": [
    "class Encoder(nn.Module):\n",
    "    def __init__(self):\n",
    "        super(Encoder, self).__init__()\n",
    "        self.encoder = nn.Sequential(\n",
    "            nn.LazyLinear(1024),\n",
    "            nn.ReLU(),\n",
    "            nn.LazyLinear(512),\n",
    "            nn.ReLU(),\n",
    "            nn.LazyLinear(256),\n",
    "            nn.ReLU(),\n",
    "            nn.LazyLinear(64),\n",
    "            nn.ReLU(),\n",
    "        )\n",
    "        self.decoder = nn.Sequential(\n",
    "            nn.LazyLinear(256),\n",
    "            nn.ReLU(),\n",
    "            nn.LazyLinear(512),\n",
    "            nn.ReLU(),\n",
    "            nn.LazyLinear(1024),\n",
    "            nn.ReLU(),\n",
    "            nn.LazyLinear(1867)\n",
    "        )\n",
    "\n",
    "    def forward(self,x):\n",
    "        out = self.encoder(x)\n",
    "        out = self.decoder(out)\n",
    "        return out"
   ],
   "metadata": {
    "trusted": true,
    "execution": {
     "iopub.status.busy": "2025-05-11T05:20:46.393780Z",
     "iopub.execute_input": "2025-05-11T05:20:46.394297Z",
     "iopub.status.idle": "2025-05-11T05:20:46.399426Z",
     "shell.execute_reply.started": "2025-05-11T05:20:46.394275Z",
     "shell.execute_reply": "2025-05-11T05:20:46.398818Z"
    }
   },
   "outputs": [],
   "execution_count": 29
  },
  {
   "cell_type": "code",
   "source": [
    "model = Encoder()"
   ],
   "metadata": {
    "trusted": true,
    "execution": {
     "iopub.status.busy": "2025-05-11T05:20:49.720191Z",
     "iopub.execute_input": "2025-05-11T05:20:49.720492Z",
     "iopub.status.idle": "2025-05-11T05:20:49.725922Z",
     "shell.execute_reply.started": "2025-05-11T05:20:49.720474Z",
     "shell.execute_reply": "2025-05-11T05:20:49.725369Z"
    }
   },
   "outputs": [],
   "execution_count": 30
  },
  {
   "cell_type": "code",
   "source": [
    "criterion = nn.MSELoss()\n",
    "optimizer = optim.Adam(model.parameters(), lr=0.001)"
   ],
   "metadata": {
    "trusted": true,
    "execution": {
     "iopub.status.busy": "2025-05-11T05:20:52.541011Z",
     "iopub.execute_input": "2025-05-11T05:20:52.541364Z",
     "iopub.status.idle": "2025-05-11T05:20:52.545622Z",
     "shell.execute_reply.started": "2025-05-11T05:20:52.541340Z",
     "shell.execute_reply": "2025-05-11T05:20:52.544869Z"
    }
   },
   "outputs": [],
   "execution_count": 31
  },
  {
   "cell_type": "code",
   "source": [
    "epochs = 15\n",
    "for epoch in tqdm(range(epochs)):\n",
    "    model.train()\n",
    "    running_loss = 0.0\n",
    "    for data, labels in train_loader:\n",
    "        optimizer.zero_grad()\n",
    "\n",
    "        outputs = model(data)\n",
    "        loss = criterion(outputs, data)\n",
    "        \n",
    "        loss.backward()\n",
    "        optimizer.step()\n",
    "\n",
    "        running_loss += loss.item()\n",
    "\n",
    "    print(f'epoch {epoch + 1} / {epochs}, Loss: {running_loss / len(train_loader)}')"
   ],
   "metadata": {
    "trusted": true,
    "execution": {
     "iopub.status.busy": "2025-05-11T05:20:55.171727Z",
     "iopub.execute_input": "2025-05-11T05:20:55.171988Z",
     "iopub.status.idle": "2025-05-11T05:41:25.244852Z",
     "shell.execute_reply.started": "2025-05-11T05:20:55.171969Z",
     "shell.execute_reply": "2025-05-11T05:41:25.243997Z"
    }
   },
   "outputs": [
    {
     "output_type": "display_data",
     "data": {
      "text/plain": "  0%|          | 0/15 [00:00<?, ?it/s]",
      "application/vnd.jupyter.widget-view+json": {
       "version_major": 2,
       "version_minor": 0,
       "model_id": "8c05cfadbd5448909749790da980b136"
      }
     },
     "metadata": {}
    },
    {
     "name": "stdout",
     "text": "epoch 1 / 15, Loss: 0.01476637507047193\nepoch 2 / 15, Loss: 0.010679715939905578\nepoch 3 / 15, Loss: 0.009218006551762675\nepoch 4 / 15, Loss: 0.007154038085843116\nepoch 5 / 15, Loss: 0.006756851277475354\nepoch 6 / 15, Loss: 0.006531213562890068\nepoch 7 / 15, Loss: 0.006548108480863136\nepoch 8 / 15, Loss: 0.00619571211713683\nepoch 9 / 15, Loss: 0.006029628111000216\nepoch 10 / 15, Loss: 0.006327042696132588\nepoch 11 / 15, Loss: 0.0059288280239317365\nepoch 12 / 15, Loss: 0.005795305889278134\nepoch 13 / 15, Loss: 0.006716818946590097\nepoch 14 / 15, Loss: 0.006067919893410292\nepoch 15 / 15, Loss: 0.006140404048445966\n",
     "output_type": "stream"
    }
   ],
   "execution_count": 32
  },
  {
   "cell_type": "code",
   "source": [
    "torch.save({\n",
    "    'model_state_dict': model.state_dict(),\n",
    "    'optimizer_state_dict': optimizer.state_dict()\n",
    "}, 'model.pth')"
   ],
   "metadata": {
    "trusted": true,
    "execution": {
     "iopub.status.busy": "2025-05-11T05:41:25.246279Z",
     "iopub.execute_input": "2025-05-11T05:41:25.246576Z",
     "iopub.status.idle": "2025-05-11T05:41:25.318949Z",
     "shell.execute_reply.started": "2025-05-11T05:41:25.246550Z",
     "shell.execute_reply": "2025-05-11T05:41:25.318415Z"
    }
   },
   "outputs": [],
   "execution_count": 33
  },
  {
   "cell_type": "code",
   "source": [
    "model.eval()"
   ],
   "metadata": {
    "trusted": true,
    "execution": {
     "iopub.status.busy": "2025-05-11T05:41:25.319713Z",
     "iopub.execute_input": "2025-05-11T05:41:25.319916Z",
     "iopub.status.idle": "2025-05-11T05:41:25.324655Z",
     "shell.execute_reply.started": "2025-05-11T05:41:25.319900Z",
     "shell.execute_reply": "2025-05-11T05:41:25.324103Z"
    }
   },
   "outputs": [
    {
     "execution_count": 34,
     "output_type": "execute_result",
     "data": {
      "text/plain": "Encoder(\n  (encoder): Sequential(\n    (0): Linear(in_features=1867, out_features=1024, bias=True)\n    (1): ReLU()\n    (2): Linear(in_features=1024, out_features=512, bias=True)\n    (3): ReLU()\n    (4): Linear(in_features=512, out_features=256, bias=True)\n    (5): ReLU()\n    (6): Linear(in_features=256, out_features=64, bias=True)\n    (7): ReLU()\n  )\n  (decoder): Sequential(\n    (0): Linear(in_features=64, out_features=256, bias=True)\n    (1): ReLU()\n    (2): Linear(in_features=256, out_features=512, bias=True)\n    (3): ReLU()\n    (4): Linear(in_features=512, out_features=1024, bias=True)\n    (5): ReLU()\n    (6): Linear(in_features=1024, out_features=1867, bias=True)\n  )\n)"
     },
     "metadata": {}
    }
   ],
   "execution_count": 34
  },
  {
   "cell_type": "markdown",
   "source": [
    "# Analyizing losses"
   ],
   "metadata": {}
  },
  {
   "cell_type": "code",
   "source": [
    "def analos(model, dataloader):\n",
    "    criterion = nn.MSELoss(reduction='none')\n",
    "    losses = []\n",
    "    with torch.no_grad():\n",
    "\n",
    "        for X_batch, _ in dataloader:\n",
    "            output = model(X_batch)\n",
    "            loss = criterion(X_batch, output)\n",
    "            losses.extend(loss.mean(dim=1).tolist())\n",
    "\n",
    "    return losses"
   ],
   "metadata": {
    "trusted": true,
    "execution": {
     "iopub.status.busy": "2025-05-11T05:41:25.326072Z",
     "iopub.execute_input": "2025-05-11T05:41:25.326283Z",
     "iopub.status.idle": "2025-05-11T05:41:25.343937Z",
     "shell.execute_reply.started": "2025-05-11T05:41:25.326269Z",
     "shell.execute_reply": "2025-05-11T05:41:25.343400Z"
    }
   },
   "outputs": [],
   "execution_count": 35
  },
  {
   "cell_type": "code",
   "source": [
    "losses = analos(model, train_loader)"
   ],
   "metadata": {
    "trusted": true,
    "execution": {
     "iopub.status.busy": "2025-05-11T05:41:25.344559Z",
     "iopub.execute_input": "2025-05-11T05:41:25.344735Z",
     "iopub.status.idle": "2025-05-11T05:41:51.865974Z",
     "shell.execute_reply.started": "2025-05-11T05:41:25.344722Z",
     "shell.execute_reply": "2025-05-11T05:41:51.865175Z"
    }
   },
   "outputs": [],
   "execution_count": 36
  },
  {
   "cell_type": "code",
   "source": [
    "max(losses)"
   ],
   "metadata": {
    "trusted": true,
    "execution": {
     "iopub.status.busy": "2025-05-11T05:41:51.866788Z",
     "iopub.execute_input": "2025-05-11T05:41:51.867021Z",
     "iopub.status.idle": "2025-05-11T05:41:51.874954Z",
     "shell.execute_reply.started": "2025-05-11T05:41:51.866997Z",
     "shell.execute_reply": "2025-05-11T05:41:51.874271Z"
    }
   },
   "outputs": [
    {
     "execution_count": 37,
     "output_type": "execute_result",
     "data": {
      "text/plain": "0.01619568094611168"
     },
     "metadata": {}
    }
   ],
   "execution_count": 37
  },
  {
   "cell_type": "code",
   "source": [
    "type(losses[90])"
   ],
   "metadata": {
    "trusted": true,
    "execution": {
     "iopub.status.busy": "2025-05-11T05:41:51.875846Z",
     "iopub.execute_input": "2025-05-11T05:41:51.876029Z",
     "iopub.status.idle": "2025-05-11T05:41:51.894172Z",
     "shell.execute_reply.started": "2025-05-11T05:41:51.876015Z",
     "shell.execute_reply": "2025-05-11T05:41:51.893529Z"
    }
   },
   "outputs": [
    {
     "execution_count": 38,
     "output_type": "execute_result",
     "data": {
      "text/plain": "float"
     },
     "metadata": {}
    }
   ],
   "execution_count": 38
  },
  {
   "cell_type": "markdown",
   "source": [
    "# Create new dataset"
   ],
   "metadata": {}
  },
  {
   "cell_type": "code",
   "source": [
    "y = data_train['target']\n",
    "X = data_train.drop(['target', 'session_id'], axis=1)"
   ],
   "metadata": {
    "trusted": true,
    "execution": {
     "iopub.status.busy": "2025-05-11T05:41:51.894943Z",
     "iopub.execute_input": "2025-05-11T05:41:51.895614Z",
     "iopub.status.idle": "2025-05-11T05:41:53.018638Z",
     "shell.execute_reply.started": "2025-05-11T05:41:51.895597Z",
     "shell.execute_reply": "2025-05-11T05:41:53.017752Z"
    }
   },
   "outputs": [],
   "execution_count": 39
  },
  {
   "cell_type": "code",
   "source": [
    "X_train, X_test, y_train, y_test = train_test_split(X, y, random_state=42, train_size=0.8)"
   ],
   "metadata": {
    "trusted": true,
    "execution": {
     "iopub.status.busy": "2025-05-11T05:41:53.019572Z",
     "iopub.execute_input": "2025-05-11T05:41:53.020154Z",
     "iopub.status.idle": "2025-05-11T05:41:56.537303Z",
     "shell.execute_reply.started": "2025-05-11T05:41:53.020127Z",
     "shell.execute_reply": "2025-05-11T05:41:56.536693Z"
    }
   },
   "outputs": [],
   "execution_count": 40
  },
  {
   "cell_type": "code",
   "source": [
    "def inference(X, y, model):\n",
    "    X = scaler.transform(X)\n",
    "    \n",
    "    y = torch.tensor(y, dtype=torch.float32)\n",
    "    X = torch.tensor(X, dtype=torch.float32)\n",
    "\n",
    "    train_dataset = TensorDataset(X, y)\n",
    "    train_loader = DataLoader(train_dataset, batch_size=256, shuffle = True)\n",
    "\n",
    "    criterion = nn.MSELoss(reduction='none')\n",
    "\n",
    "    model.eval()\n",
    "    pred=[]\n",
    "    loss_data=[]\n",
    "\n",
    "    with torch.no_grad():\n",
    "\n",
    "        for data, _ in train_loader:\n",
    "            pred.append(model.encoder(data))\n",
    "            output = model(data)\n",
    "            loss = criterion(data, output)\n",
    "            loss_data.extend(loss.mean(dim=1).tolist())\n",
    "\n",
    "    pred = torch.cat(pred, dim=0).numpy()\n",
    "    loss_frame = pd.DataFrame(data={'loss': loss_data})\n",
    "\n",
    "    data_orig = pd.DataFrame(X, columns=[f'feature_{i}' for i in range(X.shape[1])])\n",
    "    data_pred = pd.DataFrame(pred, columns=[f'reconstructed_{i}' for i in range(pred.shape[1])])\n",
    "    data = pd.concat([data_orig, data_pred], axis=1)\n",
    "    data = pd.concat([data, loss_frame], axis=1)\n",
    "\n",
    "    return data"
   ],
   "metadata": {
    "trusted": true,
    "execution": {
     "iopub.status.busy": "2025-05-11T05:41:56.546526Z",
     "iopub.execute_input": "2025-05-11T05:41:56.546966Z",
     "iopub.status.idle": "2025-05-11T05:41:56.565188Z",
     "shell.execute_reply.started": "2025-05-11T05:41:56.546943Z",
     "shell.execute_reply": "2025-05-11T05:41:56.564508Z"
    }
   },
   "outputs": [],
   "execution_count": 42
  },
  {
   "cell_type": "code",
   "source": [
    "train_X = inference(X_train, y_train, model)"
   ],
   "metadata": {
    "trusted": true,
    "execution": {
     "iopub.status.busy": "2025-05-11T05:41:56.565887Z",
     "iopub.execute_input": "2025-05-11T05:41:56.566057Z",
     "iopub.status.idle": "2025-05-11T05:42:29.277375Z",
     "shell.execute_reply.started": "2025-05-11T05:41:56.566044Z",
     "shell.execute_reply": "2025-05-11T05:42:29.276575Z"
    }
   },
   "outputs": [],
   "execution_count": 43
  },
  {
   "cell_type": "code",
   "source": [
    "train_X"
   ],
   "metadata": {
    "trusted": true,
    "execution": {
     "iopub.status.busy": "2025-05-11T05:42:29.278258Z",
     "iopub.execute_input": "2025-05-11T05:42:29.278537Z",
     "iopub.status.idle": "2025-05-11T05:42:29.311669Z",
     "shell.execute_reply.started": "2025-05-11T05:42:29.278513Z",
     "shell.execute_reply": "2025-05-11T05:42:29.310953Z"
    }
   },
   "outputs": [
    {
     "execution_count": 44,
     "output_type": "execute_result",
     "data": {
      "text/plain": "        feature_0  feature_1  feature_2  feature_3  feature_4  feature_5  \\\n0        0.184736   0.068438   0.049280   0.038150   0.091829   0.038149   \n1        0.021106   0.021130   0.001923   0.001923   0.021130   0.021130   \n2        0.003990   0.000072   0.119546   0.119498   0.119522   0.004014   \n3        0.008053   0.000697   0.000721   0.000721   0.000889   0.008077   \n4        0.983149   0.983558   0.983197   0.983581   0.983197   0.983558   \n...           ...        ...        ...        ...        ...        ...   \n202843   0.016226   0.000505   0.005817   0.000721   0.004351   0.005817   \n202844   0.000673   0.624471   0.009616   0.009616   0.010818   0.021538   \n202845   0.001563   0.001611   0.001659   0.001683   0.001635   0.001707   \n202846   0.000913   0.019519   0.018799   0.000529   0.018606   0.018630   \n202847   0.005313   0.013702   0.024880   0.000553   0.000505   0.000505   \n\n        feature_6  feature_7  feature_8  feature_9  ...  reconstructed_55  \\\n0        0.038125   0.016274   0.000913   0.000793  ...          1.059280   \n1        0.021130   0.018846   0.001923   0.021129  ...          0.249214   \n2        0.000913   0.004014   0.939641   0.939641  ...          2.207727   \n3        0.000553   0.000553   0.000553   0.000505  ...          0.477425   \n4        0.983173   0.983534   0.983534   0.983149  ...          0.709589   \n...           ...        ...        ...        ...  ...               ...   \n202843   0.000529   0.000553   0.000769   0.012404  ...          1.330422   \n202844   0.224591   0.272445   0.066104   0.021538  ...          1.411300   \n202845   0.001659   0.001611   0.001683   0.001514  ...          1.436762   \n202846   0.014808   0.018894   0.000505   0.018798  ...          0.978363   \n202847   0.025625   0.164732   0.004351   0.165212  ...          1.423947   \n\n        reconstructed_56  reconstructed_57  reconstructed_58  \\\n0               0.000000          1.859702               0.0   \n1               0.558474          0.892837               0.0   \n2               0.264195          3.197790               0.0   \n3               0.237988          0.316234               0.0   \n4               0.376021          0.514445               0.0   \n...                  ...               ...               ...   \n202843          0.681266          1.860930               0.0   \n202844          0.825056          1.740891               0.0   \n202845          0.000000          1.667992               0.0   \n202846          0.837290          1.945233               0.0   \n202847          0.828031          0.733672               0.0   \n\n        reconstructed_59  reconstructed_60  reconstructed_61  \\\n0               0.028186          1.471236               0.0   \n1               0.000000          0.804739               0.0   \n2               0.000000          1.897879               0.0   \n3               0.000000          0.423263               0.0   \n4               0.000000          0.208352               0.0   \n...                  ...               ...               ...   \n202843          0.221023          1.422324               0.0   \n202844          0.718072          0.754348               0.0   \n202845          0.109421          1.349706               0.0   \n202846          0.000000          1.114578               0.0   \n202847          0.000000          1.370702               0.0   \n\n        reconstructed_62  reconstructed_63      loss  \n0               1.344402               0.0  0.006121  \n1               1.063437               0.0  0.004643  \n2               0.970475               0.0  0.006761  \n3               0.597685               0.0  0.001421  \n4               0.681272               0.0  0.002239  \n...                  ...               ...       ...  \n202843          1.106772               0.0  0.005889  \n202844          1.647013               0.0  0.006349  \n202845          0.637127               0.0  0.008223  \n202846          1.634580               0.0  0.005325  \n202847          0.638901               0.0  0.004994  \n\n[202848 rows x 1932 columns]",
      "text/html": "<div>\n<style scoped>\n    .dataframe tbody tr th:only-of-type {\n        vertical-align: middle;\n    }\n\n    .dataframe tbody tr th {\n        vertical-align: top;\n    }\n\n    .dataframe thead th {\n        text-align: right;\n    }\n</style>\n<table border=\"1\" class=\"dataframe\">\n  <thead>\n    <tr style=\"text-align: right;\">\n      <th></th>\n      <th>feature_0</th>\n      <th>feature_1</th>\n      <th>feature_2</th>\n      <th>feature_3</th>\n      <th>feature_4</th>\n      <th>feature_5</th>\n      <th>feature_6</th>\n      <th>feature_7</th>\n      <th>feature_8</th>\n      <th>feature_9</th>\n      <th>...</th>\n      <th>reconstructed_55</th>\n      <th>reconstructed_56</th>\n      <th>reconstructed_57</th>\n      <th>reconstructed_58</th>\n      <th>reconstructed_59</th>\n      <th>reconstructed_60</th>\n      <th>reconstructed_61</th>\n      <th>reconstructed_62</th>\n      <th>reconstructed_63</th>\n      <th>loss</th>\n    </tr>\n  </thead>\n  <tbody>\n    <tr>\n      <th>0</th>\n      <td>0.184736</td>\n      <td>0.068438</td>\n      <td>0.049280</td>\n      <td>0.038150</td>\n      <td>0.091829</td>\n      <td>0.038149</td>\n      <td>0.038125</td>\n      <td>0.016274</td>\n      <td>0.000913</td>\n      <td>0.000793</td>\n      <td>...</td>\n      <td>1.059280</td>\n      <td>0.000000</td>\n      <td>1.859702</td>\n      <td>0.0</td>\n      <td>0.028186</td>\n      <td>1.471236</td>\n      <td>0.0</td>\n      <td>1.344402</td>\n      <td>0.0</td>\n      <td>0.006121</td>\n    </tr>\n    <tr>\n      <th>1</th>\n      <td>0.021106</td>\n      <td>0.021130</td>\n      <td>0.001923</td>\n      <td>0.001923</td>\n      <td>0.021130</td>\n      <td>0.021130</td>\n      <td>0.021130</td>\n      <td>0.018846</td>\n      <td>0.001923</td>\n      <td>0.021129</td>\n      <td>...</td>\n      <td>0.249214</td>\n      <td>0.558474</td>\n      <td>0.892837</td>\n      <td>0.0</td>\n      <td>0.000000</td>\n      <td>0.804739</td>\n      <td>0.0</td>\n      <td>1.063437</td>\n      <td>0.0</td>\n      <td>0.004643</td>\n    </tr>\n    <tr>\n      <th>2</th>\n      <td>0.003990</td>\n      <td>0.000072</td>\n      <td>0.119546</td>\n      <td>0.119498</td>\n      <td>0.119522</td>\n      <td>0.004014</td>\n      <td>0.000913</td>\n      <td>0.004014</td>\n      <td>0.939641</td>\n      <td>0.939641</td>\n      <td>...</td>\n      <td>2.207727</td>\n      <td>0.264195</td>\n      <td>3.197790</td>\n      <td>0.0</td>\n      <td>0.000000</td>\n      <td>1.897879</td>\n      <td>0.0</td>\n      <td>0.970475</td>\n      <td>0.0</td>\n      <td>0.006761</td>\n    </tr>\n    <tr>\n      <th>3</th>\n      <td>0.008053</td>\n      <td>0.000697</td>\n      <td>0.000721</td>\n      <td>0.000721</td>\n      <td>0.000889</td>\n      <td>0.008077</td>\n      <td>0.000553</td>\n      <td>0.000553</td>\n      <td>0.000553</td>\n      <td>0.000505</td>\n      <td>...</td>\n      <td>0.477425</td>\n      <td>0.237988</td>\n      <td>0.316234</td>\n      <td>0.0</td>\n      <td>0.000000</td>\n      <td>0.423263</td>\n      <td>0.0</td>\n      <td>0.597685</td>\n      <td>0.0</td>\n      <td>0.001421</td>\n    </tr>\n    <tr>\n      <th>4</th>\n      <td>0.983149</td>\n      <td>0.983558</td>\n      <td>0.983197</td>\n      <td>0.983581</td>\n      <td>0.983197</td>\n      <td>0.983558</td>\n      <td>0.983173</td>\n      <td>0.983534</td>\n      <td>0.983534</td>\n      <td>0.983149</td>\n      <td>...</td>\n      <td>0.709589</td>\n      <td>0.376021</td>\n      <td>0.514445</td>\n      <td>0.0</td>\n      <td>0.000000</td>\n      <td>0.208352</td>\n      <td>0.0</td>\n      <td>0.681272</td>\n      <td>0.0</td>\n      <td>0.002239</td>\n    </tr>\n    <tr>\n      <th>...</th>\n      <td>...</td>\n      <td>...</td>\n      <td>...</td>\n      <td>...</td>\n      <td>...</td>\n      <td>...</td>\n      <td>...</td>\n      <td>...</td>\n      <td>...</td>\n      <td>...</td>\n      <td>...</td>\n      <td>...</td>\n      <td>...</td>\n      <td>...</td>\n      <td>...</td>\n      <td>...</td>\n      <td>...</td>\n      <td>...</td>\n      <td>...</td>\n      <td>...</td>\n      <td>...</td>\n    </tr>\n    <tr>\n      <th>202843</th>\n      <td>0.016226</td>\n      <td>0.000505</td>\n      <td>0.005817</td>\n      <td>0.000721</td>\n      <td>0.004351</td>\n      <td>0.005817</td>\n      <td>0.000529</td>\n      <td>0.000553</td>\n      <td>0.000769</td>\n      <td>0.012404</td>\n      <td>...</td>\n      <td>1.330422</td>\n      <td>0.681266</td>\n      <td>1.860930</td>\n      <td>0.0</td>\n      <td>0.221023</td>\n      <td>1.422324</td>\n      <td>0.0</td>\n      <td>1.106772</td>\n      <td>0.0</td>\n      <td>0.005889</td>\n    </tr>\n    <tr>\n      <th>202844</th>\n      <td>0.000673</td>\n      <td>0.624471</td>\n      <td>0.009616</td>\n      <td>0.009616</td>\n      <td>0.010818</td>\n      <td>0.021538</td>\n      <td>0.224591</td>\n      <td>0.272445</td>\n      <td>0.066104</td>\n      <td>0.021538</td>\n      <td>...</td>\n      <td>1.411300</td>\n      <td>0.825056</td>\n      <td>1.740891</td>\n      <td>0.0</td>\n      <td>0.718072</td>\n      <td>0.754348</td>\n      <td>0.0</td>\n      <td>1.647013</td>\n      <td>0.0</td>\n      <td>0.006349</td>\n    </tr>\n    <tr>\n      <th>202845</th>\n      <td>0.001563</td>\n      <td>0.001611</td>\n      <td>0.001659</td>\n      <td>0.001683</td>\n      <td>0.001635</td>\n      <td>0.001707</td>\n      <td>0.001659</td>\n      <td>0.001611</td>\n      <td>0.001683</td>\n      <td>0.001514</td>\n      <td>...</td>\n      <td>1.436762</td>\n      <td>0.000000</td>\n      <td>1.667992</td>\n      <td>0.0</td>\n      <td>0.109421</td>\n      <td>1.349706</td>\n      <td>0.0</td>\n      <td>0.637127</td>\n      <td>0.0</td>\n      <td>0.008223</td>\n    </tr>\n    <tr>\n      <th>202846</th>\n      <td>0.000913</td>\n      <td>0.019519</td>\n      <td>0.018799</td>\n      <td>0.000529</td>\n      <td>0.018606</td>\n      <td>0.018630</td>\n      <td>0.014808</td>\n      <td>0.018894</td>\n      <td>0.000505</td>\n      <td>0.018798</td>\n      <td>...</td>\n      <td>0.978363</td>\n      <td>0.837290</td>\n      <td>1.945233</td>\n      <td>0.0</td>\n      <td>0.000000</td>\n      <td>1.114578</td>\n      <td>0.0</td>\n      <td>1.634580</td>\n      <td>0.0</td>\n      <td>0.005325</td>\n    </tr>\n    <tr>\n      <th>202847</th>\n      <td>0.005313</td>\n      <td>0.013702</td>\n      <td>0.024880</td>\n      <td>0.000553</td>\n      <td>0.000505</td>\n      <td>0.000505</td>\n      <td>0.025625</td>\n      <td>0.164732</td>\n      <td>0.004351</td>\n      <td>0.165212</td>\n      <td>...</td>\n      <td>1.423947</td>\n      <td>0.828031</td>\n      <td>0.733672</td>\n      <td>0.0</td>\n      <td>0.000000</td>\n      <td>1.370702</td>\n      <td>0.0</td>\n      <td>0.638901</td>\n      <td>0.0</td>\n      <td>0.004994</td>\n    </tr>\n  </tbody>\n</table>\n<p>202848 rows × 1932 columns</p>\n</div>"
     },
     "metadata": {}
    }
   ],
   "execution_count": 44
  },
  {
   "cell_type": "markdown",
   "source": [
    "# Data sampling"
   ],
   "metadata": {}
  },
  {
   "cell_type": "code",
   "source": [
    "smote = SMOTE(random_state = 42, sampling_strategy={1: 5_000})\n",
    "X_smote, y_smote = smote.fit_resample(train_X, y_train)"
   ],
   "metadata": {
    "trusted": true,
    "execution": {
     "iopub.status.busy": "2025-05-11T05:42:29.312403Z",
     "iopub.execute_input": "2025-05-11T05:42:29.312601Z",
     "iopub.status.idle": "2025-05-11T05:42:42.028302Z",
     "shell.execute_reply.started": "2025-05-11T05:42:29.312581Z",
     "shell.execute_reply": "2025-05-11T05:42:42.027523Z"
    }
   },
   "outputs": [],
   "execution_count": 45
  },
  {
   "cell_type": "code",
   "source": [
    "X_smote"
   ],
   "metadata": {
    "trusted": true,
    "execution": {
     "iopub.status.busy": "2025-05-11T05:42:42.029336Z",
     "iopub.execute_input": "2025-05-11T05:42:42.029596Z",
     "iopub.status.idle": "2025-05-11T05:42:42.135822Z",
     "shell.execute_reply.started": "2025-05-11T05:42:42.029579Z",
     "shell.execute_reply": "2025-05-11T05:42:42.135176Z"
    }
   },
   "outputs": [
    {
     "execution_count": 46,
     "output_type": "execute_result",
     "data": {
      "text/plain": "        feature_0  feature_1  feature_2  feature_3  feature_4  feature_5  \\\n0        0.184736   0.068438   0.049280   0.038150   0.091829   0.038149   \n1        0.021106   0.021130   0.001923   0.001923   0.021130   0.021130   \n2        0.003990   0.000072   0.119546   0.119498   0.119522   0.004014   \n3        0.008053   0.000697   0.000721   0.000721   0.000889   0.008077   \n4        0.983149   0.983558   0.983197   0.983581   0.983197   0.983558   \n...           ...        ...        ...        ...        ...        ...   \n206004   0.022620   0.027055   0.088019   0.136645   0.088021   0.088017   \n206005   0.005062   0.021817   0.027010   0.001831   0.001852   0.021320   \n206006   0.007643   0.003740   0.009770   0.517790   0.016010   0.000838   \n206007   0.013639   0.195829   0.061388   0.175047   0.195661   0.564834   \n206008   0.001880   0.005589   0.001846   0.001909   0.017154   0.005666   \n\n        feature_6  feature_7  feature_8  feature_9  ...  reconstructed_55  \\\n0        0.038125   0.016274   0.000913   0.000793  ...          1.059280   \n1        0.021130   0.018846   0.001923   0.021129  ...          0.249214   \n2        0.000913   0.004014   0.939641   0.939641  ...          2.207727   \n3        0.000553   0.000553   0.000553   0.000505  ...          0.477425   \n4        0.983173   0.983534   0.983534   0.983149  ...          0.709589   \n...           ...        ...        ...        ...  ...               ...   \n206004   0.027056   0.136638   0.027077   0.088039  ...          1.060208   \n206005   0.001872   0.001923   0.001963   0.001851  ...          0.140564   \n206006   0.136920   0.000534   0.000754   0.013841  ...          0.787115   \n206007   0.060737   0.026839   0.068313   0.368682  ...          1.094896   \n206008   0.001827   0.001904   0.005608   0.021168  ...          2.543028   \n\n        reconstructed_56  reconstructed_57  reconstructed_58  \\\n0               0.000000          1.859702               0.0   \n1               0.558474          0.892837               0.0   \n2               0.264195          3.197790               0.0   \n3               0.237988          0.316234               0.0   \n4               0.376021          0.514445               0.0   \n...                  ...               ...               ...   \n206004          0.000000          1.049997               0.0   \n206005          0.571858          1.049393               0.0   \n206006          0.359889          1.877786               0.0   \n206007          0.449911          1.721116               0.0   \n206008          0.330427          1.497018               0.0   \n\n        reconstructed_59  reconstructed_60  reconstructed_61  \\\n0               0.028186          1.471236               0.0   \n1               0.000000          0.804739               0.0   \n2               0.000000          1.897879               0.0   \n3               0.000000          0.423263               0.0   \n4               0.000000          0.208352               0.0   \n...                  ...               ...               ...   \n206004          0.131973          1.291487               0.0   \n206005          0.000000          0.917866               0.0   \n206006          0.464217          0.634405               0.0   \n206007          0.000000          1.954827               0.0   \n206008          0.262662          1.010426               0.0   \n\n        reconstructed_62  reconstructed_63      loss  \n0               1.344402               0.0  0.006121  \n1               1.063437               0.0  0.004643  \n2               0.970475               0.0  0.006761  \n3               0.597685               0.0  0.001421  \n4               0.681272               0.0  0.002239  \n...                  ...               ...       ...  \n206004          1.002022               0.0  0.010680  \n206005          1.191259               0.0  0.005202  \n206006          0.598284               0.0  0.005450  \n206007          1.368033               0.0  0.005418  \n206008          0.758527               0.0  0.005085  \n\n[206009 rows x 1932 columns]",
      "text/html": "<div>\n<style scoped>\n    .dataframe tbody tr th:only-of-type {\n        vertical-align: middle;\n    }\n\n    .dataframe tbody tr th {\n        vertical-align: top;\n    }\n\n    .dataframe thead th {\n        text-align: right;\n    }\n</style>\n<table border=\"1\" class=\"dataframe\">\n  <thead>\n    <tr style=\"text-align: right;\">\n      <th></th>\n      <th>feature_0</th>\n      <th>feature_1</th>\n      <th>feature_2</th>\n      <th>feature_3</th>\n      <th>feature_4</th>\n      <th>feature_5</th>\n      <th>feature_6</th>\n      <th>feature_7</th>\n      <th>feature_8</th>\n      <th>feature_9</th>\n      <th>...</th>\n      <th>reconstructed_55</th>\n      <th>reconstructed_56</th>\n      <th>reconstructed_57</th>\n      <th>reconstructed_58</th>\n      <th>reconstructed_59</th>\n      <th>reconstructed_60</th>\n      <th>reconstructed_61</th>\n      <th>reconstructed_62</th>\n      <th>reconstructed_63</th>\n      <th>loss</th>\n    </tr>\n  </thead>\n  <tbody>\n    <tr>\n      <th>0</th>\n      <td>0.184736</td>\n      <td>0.068438</td>\n      <td>0.049280</td>\n      <td>0.038150</td>\n      <td>0.091829</td>\n      <td>0.038149</td>\n      <td>0.038125</td>\n      <td>0.016274</td>\n      <td>0.000913</td>\n      <td>0.000793</td>\n      <td>...</td>\n      <td>1.059280</td>\n      <td>0.000000</td>\n      <td>1.859702</td>\n      <td>0.0</td>\n      <td>0.028186</td>\n      <td>1.471236</td>\n      <td>0.0</td>\n      <td>1.344402</td>\n      <td>0.0</td>\n      <td>0.006121</td>\n    </tr>\n    <tr>\n      <th>1</th>\n      <td>0.021106</td>\n      <td>0.021130</td>\n      <td>0.001923</td>\n      <td>0.001923</td>\n      <td>0.021130</td>\n      <td>0.021130</td>\n      <td>0.021130</td>\n      <td>0.018846</td>\n      <td>0.001923</td>\n      <td>0.021129</td>\n      <td>...</td>\n      <td>0.249214</td>\n      <td>0.558474</td>\n      <td>0.892837</td>\n      <td>0.0</td>\n      <td>0.000000</td>\n      <td>0.804739</td>\n      <td>0.0</td>\n      <td>1.063437</td>\n      <td>0.0</td>\n      <td>0.004643</td>\n    </tr>\n    <tr>\n      <th>2</th>\n      <td>0.003990</td>\n      <td>0.000072</td>\n      <td>0.119546</td>\n      <td>0.119498</td>\n      <td>0.119522</td>\n      <td>0.004014</td>\n      <td>0.000913</td>\n      <td>0.004014</td>\n      <td>0.939641</td>\n      <td>0.939641</td>\n      <td>...</td>\n      <td>2.207727</td>\n      <td>0.264195</td>\n      <td>3.197790</td>\n      <td>0.0</td>\n      <td>0.000000</td>\n      <td>1.897879</td>\n      <td>0.0</td>\n      <td>0.970475</td>\n      <td>0.0</td>\n      <td>0.006761</td>\n    </tr>\n    <tr>\n      <th>3</th>\n      <td>0.008053</td>\n      <td>0.000697</td>\n      <td>0.000721</td>\n      <td>0.000721</td>\n      <td>0.000889</td>\n      <td>0.008077</td>\n      <td>0.000553</td>\n      <td>0.000553</td>\n      <td>0.000553</td>\n      <td>0.000505</td>\n      <td>...</td>\n      <td>0.477425</td>\n      <td>0.237988</td>\n      <td>0.316234</td>\n      <td>0.0</td>\n      <td>0.000000</td>\n      <td>0.423263</td>\n      <td>0.0</td>\n      <td>0.597685</td>\n      <td>0.0</td>\n      <td>0.001421</td>\n    </tr>\n    <tr>\n      <th>4</th>\n      <td>0.983149</td>\n      <td>0.983558</td>\n      <td>0.983197</td>\n      <td>0.983581</td>\n      <td>0.983197</td>\n      <td>0.983558</td>\n      <td>0.983173</td>\n      <td>0.983534</td>\n      <td>0.983534</td>\n      <td>0.983149</td>\n      <td>...</td>\n      <td>0.709589</td>\n      <td>0.376021</td>\n      <td>0.514445</td>\n      <td>0.0</td>\n      <td>0.000000</td>\n      <td>0.208352</td>\n      <td>0.0</td>\n      <td>0.681272</td>\n      <td>0.0</td>\n      <td>0.002239</td>\n    </tr>\n    <tr>\n      <th>...</th>\n      <td>...</td>\n      <td>...</td>\n      <td>...</td>\n      <td>...</td>\n      <td>...</td>\n      <td>...</td>\n      <td>...</td>\n      <td>...</td>\n      <td>...</td>\n      <td>...</td>\n      <td>...</td>\n      <td>...</td>\n      <td>...</td>\n      <td>...</td>\n      <td>...</td>\n      <td>...</td>\n      <td>...</td>\n      <td>...</td>\n      <td>...</td>\n      <td>...</td>\n      <td>...</td>\n    </tr>\n    <tr>\n      <th>206004</th>\n      <td>0.022620</td>\n      <td>0.027055</td>\n      <td>0.088019</td>\n      <td>0.136645</td>\n      <td>0.088021</td>\n      <td>0.088017</td>\n      <td>0.027056</td>\n      <td>0.136638</td>\n      <td>0.027077</td>\n      <td>0.088039</td>\n      <td>...</td>\n      <td>1.060208</td>\n      <td>0.000000</td>\n      <td>1.049997</td>\n      <td>0.0</td>\n      <td>0.131973</td>\n      <td>1.291487</td>\n      <td>0.0</td>\n      <td>1.002022</td>\n      <td>0.0</td>\n      <td>0.010680</td>\n    </tr>\n    <tr>\n      <th>206005</th>\n      <td>0.005062</td>\n      <td>0.021817</td>\n      <td>0.027010</td>\n      <td>0.001831</td>\n      <td>0.001852</td>\n      <td>0.021320</td>\n      <td>0.001872</td>\n      <td>0.001923</td>\n      <td>0.001963</td>\n      <td>0.001851</td>\n      <td>...</td>\n      <td>0.140564</td>\n      <td>0.571858</td>\n      <td>1.049393</td>\n      <td>0.0</td>\n      <td>0.000000</td>\n      <td>0.917866</td>\n      <td>0.0</td>\n      <td>1.191259</td>\n      <td>0.0</td>\n      <td>0.005202</td>\n    </tr>\n    <tr>\n      <th>206006</th>\n      <td>0.007643</td>\n      <td>0.003740</td>\n      <td>0.009770</td>\n      <td>0.517790</td>\n      <td>0.016010</td>\n      <td>0.000838</td>\n      <td>0.136920</td>\n      <td>0.000534</td>\n      <td>0.000754</td>\n      <td>0.013841</td>\n      <td>...</td>\n      <td>0.787115</td>\n      <td>0.359889</td>\n      <td>1.877786</td>\n      <td>0.0</td>\n      <td>0.464217</td>\n      <td>0.634405</td>\n      <td>0.0</td>\n      <td>0.598284</td>\n      <td>0.0</td>\n      <td>0.005450</td>\n    </tr>\n    <tr>\n      <th>206007</th>\n      <td>0.013639</td>\n      <td>0.195829</td>\n      <td>0.061388</td>\n      <td>0.175047</td>\n      <td>0.195661</td>\n      <td>0.564834</td>\n      <td>0.060737</td>\n      <td>0.026839</td>\n      <td>0.068313</td>\n      <td>0.368682</td>\n      <td>...</td>\n      <td>1.094896</td>\n      <td>0.449911</td>\n      <td>1.721116</td>\n      <td>0.0</td>\n      <td>0.000000</td>\n      <td>1.954827</td>\n      <td>0.0</td>\n      <td>1.368033</td>\n      <td>0.0</td>\n      <td>0.005418</td>\n    </tr>\n    <tr>\n      <th>206008</th>\n      <td>0.001880</td>\n      <td>0.005589</td>\n      <td>0.001846</td>\n      <td>0.001909</td>\n      <td>0.017154</td>\n      <td>0.005666</td>\n      <td>0.001827</td>\n      <td>0.001904</td>\n      <td>0.005608</td>\n      <td>0.021168</td>\n      <td>...</td>\n      <td>2.543028</td>\n      <td>0.330427</td>\n      <td>1.497018</td>\n      <td>0.0</td>\n      <td>0.262662</td>\n      <td>1.010426</td>\n      <td>0.0</td>\n      <td>0.758527</td>\n      <td>0.0</td>\n      <td>0.005085</td>\n    </tr>\n  </tbody>\n</table>\n<p>206009 rows × 1932 columns</p>\n</div>"
     },
     "metadata": {}
    }
   ],
   "execution_count": 46
  },
  {
   "cell_type": "markdown",
   "source": [
    "# Catboost"
   ],
   "metadata": {}
  },
  {
   "cell_type": "code",
   "source": [
    "class_counts = Counter(y_smote)\n",
    "total = sum(class_counts.values())\n",
    "class_weights = {cls: total / count for cls, count in class_counts.items()}\n",
    "class_weights_list = [class_weights[cls] for cls in sorted(class_weights.keys())]"
   ],
   "metadata": {
    "trusted": true,
    "execution": {
     "iopub.status.busy": "2025-05-11T05:42:42.136581Z",
     "iopub.execute_input": "2025-05-11T05:42:42.136848Z",
     "iopub.status.idle": "2025-05-11T05:42:42.163817Z",
     "shell.execute_reply.started": "2025-05-11T05:42:42.136827Z",
     "shell.execute_reply": "2025-05-11T05:42:42.163069Z"
    }
   },
   "outputs": [],
   "execution_count": 47
  },
  {
   "cell_type": "code",
   "source": [
    "cat = CatBoostClassifier(\n",
    "    iterations=5_000, \n",
    "    learning_rate=0.01, \n",
    "    depth=7, verbose=100, \n",
    "    random_state=42, \n",
    "    class_weights=class_weights_list)"
   ],
   "metadata": {
    "trusted": true,
    "execution": {
     "iopub.status.busy": "2025-05-11T05:42:42.164684Z",
     "iopub.execute_input": "2025-05-11T05:42:42.165009Z",
     "iopub.status.idle": "2025-05-11T05:42:42.182993Z",
     "shell.execute_reply.started": "2025-05-11T05:42:42.164981Z",
     "shell.execute_reply": "2025-05-11T05:42:42.182517Z"
    }
   },
   "outputs": [],
   "execution_count": 48
  },
  {
   "cell_type": "code",
   "source": [
    "cat.fit(X_smote, y_smote)"
   ],
   "metadata": {
    "trusted": true,
    "execution": {
     "iopub.status.busy": "2025-05-11T05:42:42.183689Z",
     "iopub.execute_input": "2025-05-11T05:42:42.183914Z",
     "iopub.status.idle": "2025-05-11T06:04:41.676011Z",
     "shell.execute_reply.started": "2025-05-11T05:42:42.183900Z",
     "shell.execute_reply": "2025-05-11T06:04:41.675226Z"
    }
   },
   "outputs": [
    {
     "name": "stdout",
     "text": "0:\tlearn: 0.6830427\ttotal: 359ms\tremaining: 29m 56s\n100:\tlearn: 0.2760021\ttotal: 26s\tremaining: 21m 2s\n200:\tlearn: 0.1921233\ttotal: 53.2s\tremaining: 21m 11s\n300:\tlearn: 0.1533686\ttotal: 1m 19s\tremaining: 20m 46s\n400:\tlearn: 0.1311055\ttotal: 1m 46s\tremaining: 20m 18s\n500:\tlearn: 0.1166100\ttotal: 2m 12s\tremaining: 19m 45s\n600:\tlearn: 0.1060722\ttotal: 2m 38s\tremaining: 19m 16s\n700:\tlearn: 0.0981181\ttotal: 3m 4s\tremaining: 18m 48s\n800:\tlearn: 0.0925838\ttotal: 3m 29s\tremaining: 18m 17s\n900:\tlearn: 0.0872680\ttotal: 3m 55s\tremaining: 17m 50s\n1000:\tlearn: 0.0829714\ttotal: 4m 20s\tremaining: 17m 19s\n1100:\tlearn: 0.0793028\ttotal: 4m 46s\tremaining: 16m 52s\n1200:\tlearn: 0.0752619\ttotal: 5m 12s\tremaining: 16m 28s\n1300:\tlearn: 0.0712155\ttotal: 5m 38s\tremaining: 16m 2s\n1400:\tlearn: 0.0671370\ttotal: 6m 5s\tremaining: 15m 38s\n1500:\tlearn: 0.0635837\ttotal: 6m 31s\tremaining: 15m 12s\n1600:\tlearn: 0.0604941\ttotal: 6m 58s\tremaining: 14m 47s\n1700:\tlearn: 0.0576741\ttotal: 7m 24s\tremaining: 14m 22s\n1800:\tlearn: 0.0549754\ttotal: 7m 50s\tremaining: 13m 56s\n1900:\tlearn: 0.0525297\ttotal: 8m 17s\tremaining: 13m 31s\n2000:\tlearn: 0.0502860\ttotal: 8m 43s\tremaining: 13m 4s\n2100:\tlearn: 0.0482528\ttotal: 9m 9s\tremaining: 12m 37s\n2200:\tlearn: 0.0463925\ttotal: 9m 35s\tremaining: 12m 11s\n2300:\tlearn: 0.0446821\ttotal: 10m 1s\tremaining: 11m 45s\n2400:\tlearn: 0.0429974\ttotal: 10m 27s\tremaining: 11m 19s\n2500:\tlearn: 0.0415199\ttotal: 10m 53s\tremaining: 10m 53s\n2600:\tlearn: 0.0400954\ttotal: 11m 19s\tremaining: 10m 26s\n2700:\tlearn: 0.0387833\ttotal: 11m 45s\tremaining: 10m\n2800:\tlearn: 0.0375588\ttotal: 12m 11s\tremaining: 9m 34s\n2900:\tlearn: 0.0364011\ttotal: 12m 37s\tremaining: 9m 7s\n3000:\tlearn: 0.0352896\ttotal: 13m 3s\tremaining: 8m 41s\n3100:\tlearn: 0.0341568\ttotal: 13m 28s\tremaining: 8m 15s\n3200:\tlearn: 0.0331275\ttotal: 13m 55s\tremaining: 7m 49s\n3300:\tlearn: 0.0320762\ttotal: 14m 21s\tremaining: 7m 23s\n3400:\tlearn: 0.0311437\ttotal: 14m 48s\tremaining: 6m 57s\n3500:\tlearn: 0.0302059\ttotal: 15m 14s\tremaining: 6m 31s\n3600:\tlearn: 0.0293312\ttotal: 15m 40s\tremaining: 6m 5s\n3700:\tlearn: 0.0285248\ttotal: 16m 6s\tremaining: 5m 39s\n3800:\tlearn: 0.0277231\ttotal: 16m 32s\tremaining: 5m 13s\n3900:\tlearn: 0.0269482\ttotal: 16m 59s\tremaining: 4m 47s\n4000:\tlearn: 0.0262342\ttotal: 17m 25s\tremaining: 4m 20s\n4100:\tlearn: 0.0255527\ttotal: 17m 50s\tremaining: 3m 54s\n4200:\tlearn: 0.0249203\ttotal: 18m 16s\tremaining: 3m 28s\n4300:\tlearn: 0.0242570\ttotal: 18m 42s\tremaining: 3m 2s\n4400:\tlearn: 0.0236304\ttotal: 19m 8s\tremaining: 2m 36s\n4500:\tlearn: 0.0230186\ttotal: 19m 35s\tremaining: 2m 10s\n4600:\tlearn: 0.0224515\ttotal: 20m 1s\tremaining: 1m 44s\n4700:\tlearn: 0.0218692\ttotal: 20m 27s\tremaining: 1m 18s\n4800:\tlearn: 0.0213460\ttotal: 20m 53s\tremaining: 52s\n4900:\tlearn: 0.0208324\ttotal: 21m 20s\tremaining: 25.9s\n4999:\tlearn: 0.0203374\ttotal: 21m 45s\tremaining: 0us\n",
     "output_type": "stream"
    },
    {
     "execution_count": 49,
     "output_type": "execute_result",
     "data": {
      "text/plain": "<catboost.core.CatBoostClassifier at 0x7c58cc4cc510>"
     },
     "metadata": {}
    }
   ],
   "execution_count": 49
  },
  {
   "cell_type": "code",
   "source": [
    "test_X = inference(X_test, y_test.values, model)"
   ],
   "metadata": {
    "trusted": true,
    "execution": {
     "iopub.status.busy": "2025-05-11T06:04:41.676820Z",
     "iopub.execute_input": "2025-05-11T06:04:41.677130Z",
     "iopub.status.idle": "2025-05-11T06:04:49.392767Z",
     "shell.execute_reply.started": "2025-05-11T06:04:41.677110Z",
     "shell.execute_reply": "2025-05-11T06:04:49.391967Z"
    }
   },
   "outputs": [],
   "execution_count": 50
  },
  {
   "cell_type": "code",
   "source": [
    "test_X"
   ],
   "metadata": {
    "trusted": true,
    "execution": {
     "iopub.status.busy": "2025-05-11T06:04:49.393651Z",
     "iopub.execute_input": "2025-05-11T06:04:49.394191Z",
     "iopub.status.idle": "2025-05-11T06:04:49.421395Z",
     "shell.execute_reply.started": "2025-05-11T06:04:49.394159Z",
     "shell.execute_reply": "2025-05-11T06:04:49.420865Z"
    }
   },
   "outputs": [
    {
     "execution_count": 51,
     "output_type": "execute_result",
     "data": {
      "text/plain": "       feature_0  feature_1  feature_2  feature_3  feature_4  feature_5  \\\n0       0.018822   0.019712   0.019712   0.019712   0.019712   0.018846   \n1       0.001370   0.001418   0.006491   0.028150   0.000072   0.000192   \n2       0.019543   0.014808   0.019568   0.014808   0.019568   0.014808   \n3       0.025793   0.025817   0.025818   0.003221   0.003221   0.001587   \n4       0.000481   0.000505   0.000505   0.004207   0.000505   0.004255   \n...          ...        ...        ...        ...        ...        ...   \n50708   0.020481   0.064014   0.020529   0.062670   0.062718   0.063462   \n50709   0.046418   0.046418   0.046492   0.046347   0.046660   0.046587   \n50710   0.001803   0.233894   0.075507   0.001851   0.001827   0.001851   \n50711   0.000673   0.000721   0.000625   0.003365   0.000697   0.000625   \n50712   0.000865   0.000937   0.000889   0.021130   0.000938   0.021130   \n\n       feature_6  feature_7  feature_8  feature_9  ...  reconstructed_55  \\\n0       0.018846   0.000000   0.000000   0.000000  ...          0.684103   \n1       0.000072   0.000192   0.000072   0.000337  ...          0.449521   \n2       0.019567   0.019567   0.014831   0.019519  ...          0.417019   \n3       0.001514   0.007356   0.007332   0.007356  ...          0.906646   \n4       0.004207   0.004255   0.004279   0.004231  ...          1.027317   \n...          ...        ...        ...        ...  ...               ...   \n50708   0.062572   0.020504   0.020504   0.062811  ...          0.588844   \n50709   0.046394   0.046369   0.046609   0.046513  ...          1.531924   \n50710   0.001971   0.001851   0.001923   0.001971  ...          0.936256   \n50711   0.003365   0.000505   0.096969   0.004351  ...          0.400812   \n50712   0.001923   0.021129   0.001923   0.001923  ...          0.758534   \n\n       reconstructed_56  reconstructed_57  reconstructed_58  reconstructed_59  \\\n0              0.594184          1.329555               0.0          0.000000   \n1              0.511426          2.480895               0.0          0.000000   \n2              0.396479          0.479783               0.0          0.000000   \n3              0.000000          1.862115               0.0          0.121723   \n4              1.021231          2.142329               0.0          0.000000   \n...                 ...               ...               ...               ...   \n50708          0.610203          0.908841               0.0          0.174163   \n50709          0.000000          1.513447               0.0          0.659476   \n50710          0.000000          0.498105               0.0          1.422307   \n50711          0.481540          1.038817               0.0          0.000000   \n50712          0.594442          1.972410               0.0          0.000000   \n\n       reconstructed_60  reconstructed_61  reconstructed_62  reconstructed_63  \\\n0              0.928547               0.0          0.696979               0.0   \n1              1.131762               0.0          0.125530               0.0   \n2              0.260548               0.0          0.954126               0.0   \n3              1.143952               0.0          1.296896               0.0   \n4              1.400759               0.0          1.873962               0.0   \n...                 ...               ...               ...               ...   \n50708          1.426402               0.0          1.333161               0.0   \n50709          1.152758               0.0          0.472778               0.0   \n50710          1.540824               0.0          0.826606               0.0   \n50711          0.902009               0.0          1.402511               0.0   \n50712          1.489398               0.0          1.153097               0.0   \n\n           loss  \n0      0.009708  \n1      0.005163  \n2      0.005823  \n3      0.004761  \n4      0.004658  \n...         ...  \n50708  0.005405  \n50709  0.006041  \n50710  0.005313  \n50711  0.005787  \n50712  0.006991  \n\n[50713 rows x 1932 columns]",
      "text/html": "<div>\n<style scoped>\n    .dataframe tbody tr th:only-of-type {\n        vertical-align: middle;\n    }\n\n    .dataframe tbody tr th {\n        vertical-align: top;\n    }\n\n    .dataframe thead th {\n        text-align: right;\n    }\n</style>\n<table border=\"1\" class=\"dataframe\">\n  <thead>\n    <tr style=\"text-align: right;\">\n      <th></th>\n      <th>feature_0</th>\n      <th>feature_1</th>\n      <th>feature_2</th>\n      <th>feature_3</th>\n      <th>feature_4</th>\n      <th>feature_5</th>\n      <th>feature_6</th>\n      <th>feature_7</th>\n      <th>feature_8</th>\n      <th>feature_9</th>\n      <th>...</th>\n      <th>reconstructed_55</th>\n      <th>reconstructed_56</th>\n      <th>reconstructed_57</th>\n      <th>reconstructed_58</th>\n      <th>reconstructed_59</th>\n      <th>reconstructed_60</th>\n      <th>reconstructed_61</th>\n      <th>reconstructed_62</th>\n      <th>reconstructed_63</th>\n      <th>loss</th>\n    </tr>\n  </thead>\n  <tbody>\n    <tr>\n      <th>0</th>\n      <td>0.018822</td>\n      <td>0.019712</td>\n      <td>0.019712</td>\n      <td>0.019712</td>\n      <td>0.019712</td>\n      <td>0.018846</td>\n      <td>0.018846</td>\n      <td>0.000000</td>\n      <td>0.000000</td>\n      <td>0.000000</td>\n      <td>...</td>\n      <td>0.684103</td>\n      <td>0.594184</td>\n      <td>1.329555</td>\n      <td>0.0</td>\n      <td>0.000000</td>\n      <td>0.928547</td>\n      <td>0.0</td>\n      <td>0.696979</td>\n      <td>0.0</td>\n      <td>0.009708</td>\n    </tr>\n    <tr>\n      <th>1</th>\n      <td>0.001370</td>\n      <td>0.001418</td>\n      <td>0.006491</td>\n      <td>0.028150</td>\n      <td>0.000072</td>\n      <td>0.000192</td>\n      <td>0.000072</td>\n      <td>0.000192</td>\n      <td>0.000072</td>\n      <td>0.000337</td>\n      <td>...</td>\n      <td>0.449521</td>\n      <td>0.511426</td>\n      <td>2.480895</td>\n      <td>0.0</td>\n      <td>0.000000</td>\n      <td>1.131762</td>\n      <td>0.0</td>\n      <td>0.125530</td>\n      <td>0.0</td>\n      <td>0.005163</td>\n    </tr>\n    <tr>\n      <th>2</th>\n      <td>0.019543</td>\n      <td>0.014808</td>\n      <td>0.019568</td>\n      <td>0.014808</td>\n      <td>0.019568</td>\n      <td>0.014808</td>\n      <td>0.019567</td>\n      <td>0.019567</td>\n      <td>0.014831</td>\n      <td>0.019519</td>\n      <td>...</td>\n      <td>0.417019</td>\n      <td>0.396479</td>\n      <td>0.479783</td>\n      <td>0.0</td>\n      <td>0.000000</td>\n      <td>0.260548</td>\n      <td>0.0</td>\n      <td>0.954126</td>\n      <td>0.0</td>\n      <td>0.005823</td>\n    </tr>\n    <tr>\n      <th>3</th>\n      <td>0.025793</td>\n      <td>0.025817</td>\n      <td>0.025818</td>\n      <td>0.003221</td>\n      <td>0.003221</td>\n      <td>0.001587</td>\n      <td>0.001514</td>\n      <td>0.007356</td>\n      <td>0.007332</td>\n      <td>0.007356</td>\n      <td>...</td>\n      <td>0.906646</td>\n      <td>0.000000</td>\n      <td>1.862115</td>\n      <td>0.0</td>\n      <td>0.121723</td>\n      <td>1.143952</td>\n      <td>0.0</td>\n      <td>1.296896</td>\n      <td>0.0</td>\n      <td>0.004761</td>\n    </tr>\n    <tr>\n      <th>4</th>\n      <td>0.000481</td>\n      <td>0.000505</td>\n      <td>0.000505</td>\n      <td>0.004207</td>\n      <td>0.000505</td>\n      <td>0.004255</td>\n      <td>0.004207</td>\n      <td>0.004255</td>\n      <td>0.004279</td>\n      <td>0.004231</td>\n      <td>...</td>\n      <td>1.027317</td>\n      <td>1.021231</td>\n      <td>2.142329</td>\n      <td>0.0</td>\n      <td>0.000000</td>\n      <td>1.400759</td>\n      <td>0.0</td>\n      <td>1.873962</td>\n      <td>0.0</td>\n      <td>0.004658</td>\n    </tr>\n    <tr>\n      <th>...</th>\n      <td>...</td>\n      <td>...</td>\n      <td>...</td>\n      <td>...</td>\n      <td>...</td>\n      <td>...</td>\n      <td>...</td>\n      <td>...</td>\n      <td>...</td>\n      <td>...</td>\n      <td>...</td>\n      <td>...</td>\n      <td>...</td>\n      <td>...</td>\n      <td>...</td>\n      <td>...</td>\n      <td>...</td>\n      <td>...</td>\n      <td>...</td>\n      <td>...</td>\n      <td>...</td>\n    </tr>\n    <tr>\n      <th>50708</th>\n      <td>0.020481</td>\n      <td>0.064014</td>\n      <td>0.020529</td>\n      <td>0.062670</td>\n      <td>0.062718</td>\n      <td>0.063462</td>\n      <td>0.062572</td>\n      <td>0.020504</td>\n      <td>0.020504</td>\n      <td>0.062811</td>\n      <td>...</td>\n      <td>0.588844</td>\n      <td>0.610203</td>\n      <td>0.908841</td>\n      <td>0.0</td>\n      <td>0.174163</td>\n      <td>1.426402</td>\n      <td>0.0</td>\n      <td>1.333161</td>\n      <td>0.0</td>\n      <td>0.005405</td>\n    </tr>\n    <tr>\n      <th>50709</th>\n      <td>0.046418</td>\n      <td>0.046418</td>\n      <td>0.046492</td>\n      <td>0.046347</td>\n      <td>0.046660</td>\n      <td>0.046587</td>\n      <td>0.046394</td>\n      <td>0.046369</td>\n      <td>0.046609</td>\n      <td>0.046513</td>\n      <td>...</td>\n      <td>1.531924</td>\n      <td>0.000000</td>\n      <td>1.513447</td>\n      <td>0.0</td>\n      <td>0.659476</td>\n      <td>1.152758</td>\n      <td>0.0</td>\n      <td>0.472778</td>\n      <td>0.0</td>\n      <td>0.006041</td>\n    </tr>\n    <tr>\n      <th>50710</th>\n      <td>0.001803</td>\n      <td>0.233894</td>\n      <td>0.075507</td>\n      <td>0.001851</td>\n      <td>0.001827</td>\n      <td>0.001851</td>\n      <td>0.001971</td>\n      <td>0.001851</td>\n      <td>0.001923</td>\n      <td>0.001971</td>\n      <td>...</td>\n      <td>0.936256</td>\n      <td>0.000000</td>\n      <td>0.498105</td>\n      <td>0.0</td>\n      <td>1.422307</td>\n      <td>1.540824</td>\n      <td>0.0</td>\n      <td>0.826606</td>\n      <td>0.0</td>\n      <td>0.005313</td>\n    </tr>\n    <tr>\n      <th>50711</th>\n      <td>0.000673</td>\n      <td>0.000721</td>\n      <td>0.000625</td>\n      <td>0.003365</td>\n      <td>0.000697</td>\n      <td>0.000625</td>\n      <td>0.003365</td>\n      <td>0.000505</td>\n      <td>0.096969</td>\n      <td>0.004351</td>\n      <td>...</td>\n      <td>0.400812</td>\n      <td>0.481540</td>\n      <td>1.038817</td>\n      <td>0.0</td>\n      <td>0.000000</td>\n      <td>0.902009</td>\n      <td>0.0</td>\n      <td>1.402511</td>\n      <td>0.0</td>\n      <td>0.005787</td>\n    </tr>\n    <tr>\n      <th>50712</th>\n      <td>0.000865</td>\n      <td>0.000937</td>\n      <td>0.000889</td>\n      <td>0.021130</td>\n      <td>0.000938</td>\n      <td>0.021130</td>\n      <td>0.001923</td>\n      <td>0.021129</td>\n      <td>0.001923</td>\n      <td>0.001923</td>\n      <td>...</td>\n      <td>0.758534</td>\n      <td>0.594442</td>\n      <td>1.972410</td>\n      <td>0.0</td>\n      <td>0.000000</td>\n      <td>1.489398</td>\n      <td>0.0</td>\n      <td>1.153097</td>\n      <td>0.0</td>\n      <td>0.006991</td>\n    </tr>\n  </tbody>\n</table>\n<p>50713 rows × 1932 columns</p>\n</div>"
     },
     "metadata": {}
    }
   ],
   "execution_count": 51
  },
  {
   "cell_type": "markdown",
   "source": [
    "# Results"
   ],
   "metadata": {}
  },
  {
   "cell_type": "code",
   "source": [
    "predictions = cat.predict(test_X)"
   ],
   "metadata": {
    "trusted": true,
    "execution": {
     "iopub.status.busy": "2025-05-11T06:04:49.422091Z",
     "iopub.execute_input": "2025-05-11T06:04:49.422374Z",
     "iopub.status.idle": "2025-05-11T06:04:49.983726Z",
     "shell.execute_reply.started": "2025-05-11T06:04:49.422352Z",
     "shell.execute_reply": "2025-05-11T06:04:49.983097Z"
    }
   },
   "outputs": [],
   "execution_count": 52
  },
  {
   "cell_type": "code",
   "source": [
    "roc_auc_score(y_test, predictions)"
   ],
   "metadata": {
    "trusted": true,
    "execution": {
     "iopub.status.busy": "2025-05-11T06:04:49.984533Z",
     "iopub.execute_input": "2025-05-11T06:04:49.984755Z",
     "iopub.status.idle": "2025-05-11T06:04:50.005659Z",
     "shell.execute_reply.started": "2025-05-11T06:04:49.984738Z",
     "shell.execute_reply": "2025-05-11T06:04:50.005073Z"
    }
   },
   "outputs": [
    {
     "execution_count": 53,
     "output_type": "execute_result",
     "data": {
      "text/plain": "0.9433544382166237"
     },
     "metadata": {}
    }
   ],
   "execution_count": 53
  },
  {
   "cell_type": "code",
   "source": [
    "print(classification_report(y_test, predictions))"
   ],
   "metadata": {
    "trusted": true,
    "execution": {
     "iopub.status.busy": "2025-05-11T06:04:50.006259Z",
     "iopub.execute_input": "2025-05-11T06:04:50.006435Z",
     "iopub.status.idle": "2025-05-11T06:04:50.043902Z",
     "shell.execute_reply.started": "2025-05-11T06:04:50.006412Z",
     "shell.execute_reply": "2025-05-11T06:04:50.043409Z"
    }
   },
   "outputs": [
    {
     "name": "stdout",
     "text": "              precision    recall  f1-score   support\n\n           0       1.00      0.99      0.99     50255\n           1       0.39      0.90      0.54       458\n\n    accuracy                           0.99     50713\n   macro avg       0.69      0.94      0.77     50713\nweighted avg       0.99      0.99      0.99     50713\n\n",
     "output_type": "stream"
    }
   ],
   "execution_count": 54
  },
  {
   "cell_type": "code",
   "source": [
    "cat.save_model('cat_model.cbm')"
   ],
   "metadata": {
    "trusted": true,
    "execution": {
     "iopub.status.busy": "2025-05-11T06:04:50.044761Z",
     "iopub.execute_input": "2025-05-11T06:04:50.044985Z",
     "iopub.status.idle": "2025-05-11T06:04:50.086136Z",
     "shell.execute_reply.started": "2025-05-11T06:04:50.044962Z",
     "shell.execute_reply": "2025-05-11T06:04:50.085493Z"
    }
   },
   "outputs": [],
   "execution_count": 55
  }
 ]
}
